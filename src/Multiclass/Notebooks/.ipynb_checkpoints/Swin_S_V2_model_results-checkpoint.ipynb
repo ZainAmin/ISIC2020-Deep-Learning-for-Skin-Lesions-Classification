{
 "cells": [
  {
   "cell_type": "markdown",
   "metadata": {
    "id": "uCObVeY-cDFu"
   },
   "source": [
    "## Deep Learning Multiclass Challenge (CAD Project)\n",
    "\n",
    "Author: **Muhammad Zain Amin**\n",
    "<br>\n",
    "Erasmus Mundus Joint Master Degree in Medical Imaging and Applications (MAIA)\n",
    "<br>\n",
    "University of Girona, Spain"
   ]
  },
  {
   "cell_type": "markdown",
   "metadata": {
    "id": "EUaNqRpz5CCh"
   },
   "source": [
    "#### Libraries"
   ]
  },
  {
   "cell_type": "code",
   "execution_count": null,
   "metadata": {},
   "outputs": [],
   "source": [
    "import copy\n",
    "import time\n",
    "import sys\n",
    "import logging\n",
    "import cv2 as cv\n",
    "import numpy as np\n",
    "import pandas as pd\n",
    "from tqdm import tqdm\n",
    "import albumentations as A\n",
    "import matplotlib.pyplot as plt\n",
    "from collections import Counter\n",
    "from PIL import Image, ImageOps\n",
    "from typing import Optional, Sequence\n",
    "\n",
    "import torch\n",
    "import torchvision\n",
    "import torch.nn as nn\n",
    "import torch.nn.functional as F\n",
    "import torch.optim as optim\n",
    "from torch import Tensor\n",
    "import torchvision.transforms.functional as TF\n",
    "from torch.utils.data import Dataset, DataLoader\n",
    "from torch.autograd import Variable\n",
    "from torchvision import models, transforms\n",
    "from torch.utils.tensorboard import SummaryWriter\n",
    "\n",
    "from sklearn.metrics import accuracy_score, balanced_accuracy_score, cohen_kappa_score, confusion_matrix, roc_curve, auc\n",
    "from sklearn.utils import class_weight\n",
    "from skimage import io"
   ]
  },
  {
   "cell_type": "markdown",
   "metadata": {},
   "source": [
    "#### Import Functions and Classes"
   ]
  },
  {
   "cell_type": "code",
   "execution_count": 20,
   "metadata": {},
   "outputs": [],
   "source": [
    "from imshow import imshow\n",
    "from visualize_model import visualize_model\n",
    "from focal_loss import FocalLoss\n",
    "from train_model import train_model\n",
    "from test_model import test_model\n",
    "from plot_confusion_matrix import plot_confusion_matrix\n",
    "from plot_roc import plot_roc\n",
    "from Imbalanced_Dataset_Sampler import ImbalancedDatasetSampler \n",
    "from Challenge_2_Dataset import Challenge2Dataset\n",
    "from Data_Samples import get_samples_count\n",
    "from models import ModelFactory"
   ]
  },
  {
   "cell_type": "markdown",
   "metadata": {},
   "source": [
    "#### Mount Drive"
   ]
  },
  {
   "cell_type": "code",
   "execution_count": null,
   "metadata": {
    "colab": {
     "base_uri": "https://localhost:8080/"
    },
    "id": "pr9e6dlUirEj",
    "outputId": "26ccb4fc-e41a-44fe-af75-33c4ad701181"
   },
   "outputs": [
    {
     "name": "stdout",
     "output_type": "stream",
     "text": [
      "Mounted at /content/drive\n"
     ]
    }
   ],
   "source": [
    "from google.colab import drive\n",
    "drive.mount('/content/drive')"
   ]
  },
  {
   "cell_type": "markdown",
   "metadata": {
    "id": "QoD_UAr7STo8"
   },
   "source": [
    "#### Dataset Directories"
   ]
  },
  {
   "cell_type": "code",
   "execution_count": null,
   "metadata": {
    "id": "e9wOjsRicfTY"
   },
   "outputs": [],
   "source": [
    "# Image directories\n",
    "train_img_folder = '/content/drive/MyDrive/CAD/Dataset/train/train'\n",
    "val_img_folder = '/content/drive/MyDrive/CAD/Dataset/val/val'\n",
    "test_img_folder = '/content/drive/MyDrive/CAD/Dataset/test'\n",
    "\n",
    "# CSV paths\n",
    "train_csv_path = '/content/drive/MyDrive/CAD/Dataset/train_labels.csv'\n",
    "val_csv_path = '/content/drive/MyDrive/CAD/Dataset/val_labels.csv'\n",
    "test_csv_path = '/content/drive/MyDrive/CAD/Dataset/test_ids.csv'"
   ]
  },
  {
   "cell_type": "markdown",
   "metadata": {
    "id": "etf3ktJFFvqP"
   },
   "source": [
    "#### Parameters"
   ]
  },
  {
   "cell_type": "code",
   "execution_count": null,
   "metadata": {
    "id": "Oj7jyWoKjsgM"
   },
   "outputs": [],
   "source": [
    "DEVICE = \"cuda\" if torch.cuda.is_available() else \"cpu\" \n",
    "NEW_SIZE = 256\n",
    "TRAIN_BATCH_SIZE = 16\n",
    "TEST_BATCH_SIZE = 64\n",
    "VAL_BATCH_SIZE = 64\n",
    "NUM_WORKERS = 2\n",
    "MU = [0.6138, 0.5056, 0.4985]\n",
    "STD = [0.1611, 0.1672, 0.1764]"
   ]
  },
  {
   "cell_type": "markdown",
   "metadata": {
    "id": "9nDffwHTFwbG"
   },
   "source": [
    "#### Data Transformations"
   ]
  },
  {
   "cell_type": "code",
   "execution_count": null,
   "metadata": {
    "id": "2gfTfKerGAkS"
   },
   "outputs": [],
   "source": [
    "img_transforms = transforms.Compose([\n",
    "                                      transforms.Resize(NEW_SIZE+4),\n",
    "                                      transforms.CenterCrop(NEW_SIZE),\n",
    "                                      transforms.ToTensor(),\n",
    "                                      transforms.Normalize(mean= MU, std=STD)\n",
    "                                  ])"
   ]
  },
  {
   "cell_type": "code",
   "execution_count": null,
   "metadata": {
    "id": "yA1dKonD_sKX"
   },
   "outputs": [],
   "source": [
    "dataset_train = Challenge2Dataset(csv_file=train_csv_path,\n",
    "                             image_folder= train_img_folder,\n",
    "                             img_transform = img_transforms,\n",
    "                             augment = True)"
   ]
  },
  {
   "cell_type": "code",
   "execution_count": null,
   "metadata": {
    "id": "mflxrU0cGYzy"
   },
   "outputs": [],
   "source": [
    "dataset_val = Challenge2Dataset(csv_file=val_csv_path,\n",
    "                            image_folder= val_img_folder,\n",
    "                            img_transform = img_transforms,\n",
    "                            augment=False)\n"
   ]
  },
  {
   "cell_type": "markdown",
   "metadata": {
    "id": "j-FVnmPLGdwW"
   },
   "source": [
    "#### Data Loaders"
   ]
  },
  {
   "cell_type": "code",
   "execution_count": null,
   "metadata": {
    "id": "9X_Vm7C4SFYk"
   },
   "outputs": [],
   "source": [
    "y = dataset_train.get_labels()\n",
    "class_weights= class_weight.compute_class_weight(class_weight = 'balanced', classes= np.unique(y), y= np.array(y))\n",
    "class_weights =  torch.tensor(class_weights).float().to(DEVICE)"
   ]
  },
  {
   "cell_type": "code",
   "execution_count": null,
   "metadata": {
    "id": "MfBJqQMF_uTQ"
   },
   "outputs": [],
   "source": [
    "# Balanced training dataloader\n",
    "mean_samples = get_samples_count(dataset_train.get_labels(), 'mean') # perform undersampling\n",
    "data_sampler = ImbalancedDatasetSampler(dataset_train, indices=None, num_samples=mean_samples, replacement = True)\n",
    "train_loader_balanced = DataLoader(dataset_train, sampler=data_sampler, num_workers=NUM_WORKERS,\n",
    "                             batch_size=TRAIN_BATCH_SIZE)"
   ]
  },
  {
   "cell_type": "code",
   "execution_count": null,
   "metadata": {
    "id": "-Q1TXuRh8EXG"
   },
   "outputs": [],
   "source": [
    "val_loader_shuff = DataLoader(dataset_val, batch_size=8, num_workers=NUM_WORKERS, shuffle=True)"
   ]
  },
  {
   "cell_type": "code",
   "execution_count": null,
   "metadata": {
    "id": "U39_q7VIKAJm"
   },
   "outputs": [],
   "source": [
    "# dataloaders with the original number of samples in the dataset\n",
    "train_loader = DataLoader(dataset_train, batch_size=TRAIN_BATCH_SIZE, num_workers=NUM_WORKERS, shuffle=True)\n",
    "val_loader = DataLoader(dataset_val, batch_size=VAL_BATCH_SIZE, num_workers=NUM_WORKERS)\n"
   ]
  },
  {
   "cell_type": "code",
   "execution_count": null,
   "metadata": {
    "id": "pcMHyR11oD_V"
   },
   "outputs": [],
   "source": [
    "dataloaders = {\"train\": train_loader,\"val\": val_loader}\n",
    "dataloaders_balanced = {\"train\": train_loader_balanced,\"val\": val_loader}"
   ]
  },
  {
   "cell_type": "markdown",
   "metadata": {},
   "source": [
    "# Training and Results"
   ]
  },
  {
   "cell_type": "markdown",
   "metadata": {
    "id": "f9k0GeDgri70"
   },
   "source": [
    "#### Swin S V2 Model"
   ]
  },
  {
   "cell_type": "code",
   "execution_count": null,
   "metadata": {
    "id": "wYMR0vFrrmQD"
   },
   "outputs": [],
   "source": [
    "logging.basicConfig(filename=\"/content/drive/MyDrive/CAD/Swin/swin_s_v2_ce.txt\", level=logging.INFO,format='[%(asctime)s.%(msecs)03d] %(message)s', datefmt='%H:%M:%S', force=True)\n",
    "logging.getLogger().addHandler(logging.StreamHandler(sys.stdout))\n",
    "writer_path = '/content/drive/MyDrive/CAD/Swin'"
   ]
  },
  {
   "cell_type": "code",
   "execution_count": null,
   "metadata": {
    "colab": {
     "base_uri": "https://localhost:8080/"
    },
    "id": "tzA50vzwr5g6",
    "outputId": "f7a5a389-7a87-432a-e206-555f56824986"
   },
   "outputs": [
    {
     "name": "stderr",
     "output_type": "stream",
     "text": [
      "Downloading: \"https://download.pytorch.org/models/swin_v2_s-637d8ceb.pth\" to /root/.cache/torch/hub/checkpoints/swin_v2_s-637d8ceb.pth\n",
      "100%|██████████| 191M/191M [00:11<00:00, 17.1MB/s]\n"
     ]
    }
   ],
   "source": [
    "LR = 1e-4\n",
    "LR_PATIENCE = 7\n",
    "ES_PATIENCE = 12\n",
    "EPOCHS = 100\n",
    "WD = 1e-8\n",
    "model_factory = ModelFactory()\n",
    "swin = model_factory.make_swin_v2(True, DEVICE)\n",
    "criterion = nn.CrossEntropyLoss()\n",
    "optimizer = optim.Adam(swin.parameters(), lr = LR, weight_decay=WD)\n",
    "lr_scheduler = optim.lr_scheduler.ReduceLROnPlateau(optimizer, patience= LR_PATIENCE, factor = 0.1, mode=\"min\")"
   ]
  },
  {
   "cell_type": "code",
   "execution_count": null,
   "metadata": {
    "colab": {
     "base_uri": "https://localhost:8080/"
    },
    "id": "_oHtkXlIsAWd",
    "outputId": "5991f213-00f3-4ebd-ac01-14d99622f765"
   },
   "outputs": [
    {
     "name": "stdout",
     "output_type": "stream",
     "text": [
      "Model:swin_s_v2, LR: 1e-4, LR patience = 7, loss: CE, optim: ADAM, lr_sched: ReduceOnPlat, WD = 1e-8, without sampling\n"
     ]
    }
   ],
   "source": [
    "logging.info('Model:swin_s_v2, LR: 1e-4, LR patience = 7, loss: CE, optim: ADAM, lr_sched: ReduceOnPlat, WD = 1e-8, without sampling')"
   ]
  },
  {
   "cell_type": "code",
   "execution_count": null,
   "metadata": {
    "id": "vTULJmeFsCK3"
   },
   "outputs": [],
   "source": [
    "#number of samples in each set\n",
    "dataset_sizes = {\n",
    "    'train': len(dataset_train),\n",
    "    'val':len(dataset_val),\n",
    "}"
   ]
  },
  {
   "cell_type": "code",
   "execution_count": null,
   "metadata": {
    "colab": {
     "base_uri": "https://localhost:8080/"
    },
    "id": "5HEeRRtBsLdf",
    "outputId": "8a5c2ec8-4866-4022-f9dc-760b59f704ca"
   },
   "outputs": [
    {
     "name": "stdout",
     "output_type": "stream",
     "text": [
      "Epoch 1/100\n",
      "---------------\n"
     ]
    },
    {
     "name": "stderr",
     "output_type": "stream",
     "text": [
      "100%|██████████| 318/318 [02:13<00:00,  2.38it/s]"
     ]
    },
    {
     "name": "stdout",
     "output_type": "stream",
     "text": [
      "train epoch 1 : loss : 0.5192, acc: 0.8003, kappa: 0.6259\n"
     ]
    },
    {
     "name": "stderr",
     "output_type": "stream",
     "text": [
      "\n",
      "100%|██████████| 20/20 [00:27<00:00,  1.37s/it]"
     ]
    },
    {
     "name": "stdout",
     "output_type": "stream",
     "text": [
      "val epoch 1 : loss : 0.3966, acc: 0.8693, kappa: 0.7551\n"
     ]
    },
    {
     "name": "stderr",
     "output_type": "stream",
     "text": [
      "\n"
     ]
    },
    {
     "name": "stdout",
     "output_type": "stream",
     "text": [
      "\n",
      "Epoch 2/100\n",
      "---------------\n"
     ]
    },
    {
     "name": "stderr",
     "output_type": "stream",
     "text": [
      "100%|██████████| 318/318 [02:17<00:00,  2.31it/s]"
     ]
    },
    {
     "name": "stdout",
     "output_type": "stream",
     "text": [
      "train epoch 2 : loss : 0.3997, acc: 0.8544, kappa: 0.7293\n"
     ]
    },
    {
     "name": "stderr",
     "output_type": "stream",
     "text": [
      "\n",
      "100%|██████████| 20/20 [00:25<00:00,  1.27s/it]"
     ]
    },
    {
     "name": "stdout",
     "output_type": "stream",
     "text": [
      "val epoch 2 : loss : 0.3159, acc: 0.8772, kappa: 0.7748\n"
     ]
    },
    {
     "name": "stderr",
     "output_type": "stream",
     "text": [
      "\n"
     ]
    },
    {
     "name": "stdout",
     "output_type": "stream",
     "text": [
      "\n",
      "Epoch 3/100\n",
      "---------------\n"
     ]
    },
    {
     "name": "stderr",
     "output_type": "stream",
     "text": [
      "100%|██████████| 318/318 [02:15<00:00,  2.34it/s]"
     ]
    },
    {
     "name": "stdout",
     "output_type": "stream",
     "text": [
      "train epoch 3 : loss : 0.3442, acc: 0.8660, kappa: 0.7537\n"
     ]
    },
    {
     "name": "stderr",
     "output_type": "stream",
     "text": [
      "\n",
      "100%|██████████| 20/20 [00:27<00:00,  1.38s/it]"
     ]
    },
    {
     "name": "stdout",
     "output_type": "stream",
     "text": [
      "val epoch 3 : loss : 0.2954, acc: 0.9008, kappa: 0.8162\n"
     ]
    },
    {
     "name": "stderr",
     "output_type": "stream",
     "text": [
      "\n"
     ]
    },
    {
     "name": "stdout",
     "output_type": "stream",
     "text": [
      "\n",
      "Epoch 4/100\n",
      "---------------\n"
     ]
    },
    {
     "name": "stderr",
     "output_type": "stream",
     "text": [
      "100%|██████████| 318/318 [02:17<00:00,  2.31it/s]"
     ]
    },
    {
     "name": "stdout",
     "output_type": "stream",
     "text": [
      "train epoch 4 : loss : 0.3057, acc: 0.8855, kappa: 0.7903\n"
     ]
    },
    {
     "name": "stderr",
     "output_type": "stream",
     "text": [
      "\n",
      "100%|██████████| 20/20 [00:24<00:00,  1.24s/it]"
     ]
    },
    {
     "name": "stdout",
     "output_type": "stream",
     "text": [
      "val epoch 4 : loss : 0.2600, acc: 0.9055, kappa: 0.8285\n"
     ]
    },
    {
     "name": "stderr",
     "output_type": "stream",
     "text": [
      "\n"
     ]
    },
    {
     "name": "stdout",
     "output_type": "stream",
     "text": [
      "\n",
      "Epoch 5/100\n",
      "---------------\n"
     ]
    },
    {
     "name": "stderr",
     "output_type": "stream",
     "text": [
      "100%|██████████| 318/318 [02:15<00:00,  2.35it/s]"
     ]
    },
    {
     "name": "stdout",
     "output_type": "stream",
     "text": [
      "train epoch 5 : loss : 0.2727, acc: 0.9032, kappa: 0.8232\n"
     ]
    },
    {
     "name": "stderr",
     "output_type": "stream",
     "text": [
      "\n",
      "100%|██████████| 20/20 [00:27<00:00,  1.37s/it]"
     ]
    },
    {
     "name": "stdout",
     "output_type": "stream",
     "text": [
      "val epoch 5 : loss : 0.3170, acc: 0.8953, kappa: 0.8057\n"
     ]
    },
    {
     "name": "stderr",
     "output_type": "stream",
     "text": [
      "\n"
     ]
    },
    {
     "name": "stdout",
     "output_type": "stream",
     "text": [
      "\n",
      "Epoch 6/100\n",
      "---------------\n"
     ]
    },
    {
     "name": "stderr",
     "output_type": "stream",
     "text": [
      "100%|██████████| 318/318 [02:16<00:00,  2.33it/s]"
     ]
    },
    {
     "name": "stdout",
     "output_type": "stream",
     "text": [
      "train epoch 6 : loss : 0.2520, acc: 0.9095, kappa: 0.8353\n"
     ]
    },
    {
     "name": "stderr",
     "output_type": "stream",
     "text": [
      "\n",
      "100%|██████████| 20/20 [00:24<00:00,  1.25s/it]"
     ]
    },
    {
     "name": "stdout",
     "output_type": "stream",
     "text": [
      "val epoch 6 : loss : 0.2686, acc: 0.9063, kappa: 0.8258\n"
     ]
    },
    {
     "name": "stderr",
     "output_type": "stream",
     "text": [
      "\n"
     ]
    },
    {
     "name": "stdout",
     "output_type": "stream",
     "text": [
      "\n",
      "Epoch 7/100\n",
      "---------------\n"
     ]
    },
    {
     "name": "stderr",
     "output_type": "stream",
     "text": [
      "100%|██████████| 318/318 [02:16<00:00,  2.33it/s]"
     ]
    },
    {
     "name": "stdout",
     "output_type": "stream",
     "text": [
      "train epoch 7 : loss : 0.2380, acc: 0.9150, kappa: 0.8449\n"
     ]
    },
    {
     "name": "stderr",
     "output_type": "stream",
     "text": [
      "\n",
      "100%|██████████| 20/20 [00:26<00:00,  1.34s/it]"
     ]
    },
    {
     "name": "stdout",
     "output_type": "stream",
     "text": [
      "val epoch 7 : loss : 0.2446, acc: 0.9142, kappa: 0.8448\n"
     ]
    },
    {
     "name": "stderr",
     "output_type": "stream",
     "text": [
      "\n"
     ]
    },
    {
     "name": "stdout",
     "output_type": "stream",
     "text": [
      "\n",
      "Epoch 8/100\n",
      "---------------\n"
     ]
    },
    {
     "name": "stderr",
     "output_type": "stream",
     "text": [
      "100%|██████████| 318/318 [02:16<00:00,  2.33it/s]"
     ]
    },
    {
     "name": "stdout",
     "output_type": "stream",
     "text": [
      "train epoch 8 : loss : 0.2042, acc: 0.9278, kappa: 0.8689\n"
     ]
    },
    {
     "name": "stderr",
     "output_type": "stream",
     "text": [
      "\n",
      "100%|██████████| 20/20 [00:25<00:00,  1.30s/it]"
     ]
    },
    {
     "name": "stdout",
     "output_type": "stream",
     "text": [
      "val epoch 8 : loss : 0.2386, acc: 0.9165, kappa: 0.8505\n"
     ]
    },
    {
     "name": "stderr",
     "output_type": "stream",
     "text": [
      "\n"
     ]
    },
    {
     "name": "stdout",
     "output_type": "stream",
     "text": [
      "\n",
      "Epoch 9/100\n",
      "---------------\n"
     ]
    },
    {
     "name": "stderr",
     "output_type": "stream",
     "text": [
      "100%|██████████| 318/318 [02:16<00:00,  2.34it/s]"
     ]
    },
    {
     "name": "stdout",
     "output_type": "stream",
     "text": [
      "train epoch 9 : loss : 0.1794, acc: 0.9372, kappa: 0.8864\n"
     ]
    },
    {
     "name": "stderr",
     "output_type": "stream",
     "text": [
      "\n",
      "100%|██████████| 20/20 [00:27<00:00,  1.39s/it]"
     ]
    },
    {
     "name": "stdout",
     "output_type": "stream",
     "text": [
      "val epoch 9 : loss : 0.3053, acc: 0.9094, kappa: 0.8313\n"
     ]
    },
    {
     "name": "stderr",
     "output_type": "stream",
     "text": [
      "\n"
     ]
    },
    {
     "name": "stdout",
     "output_type": "stream",
     "text": [
      "\n",
      "Epoch 10/100\n",
      "---------------\n"
     ]
    },
    {
     "name": "stderr",
     "output_type": "stream",
     "text": [
      "100%|██████████| 318/318 [02:16<00:00,  2.33it/s]"
     ]
    },
    {
     "name": "stdout",
     "output_type": "stream",
     "text": [
      "train epoch 10 : loss : 0.1809, acc: 0.9355, kappa: 0.8830\n"
     ]
    },
    {
     "name": "stderr",
     "output_type": "stream",
     "text": [
      "\n",
      "100%|██████████| 20/20 [00:25<00:00,  1.29s/it]"
     ]
    },
    {
     "name": "stdout",
     "output_type": "stream",
     "text": [
      "val epoch 10 : loss : 0.2051, acc: 0.9315, kappa: 0.8745\n"
     ]
    },
    {
     "name": "stderr",
     "output_type": "stream",
     "text": [
      "\n"
     ]
    },
    {
     "name": "stdout",
     "output_type": "stream",
     "text": [
      "\n",
      "Epoch 11/100\n",
      "---------------\n"
     ]
    },
    {
     "name": "stderr",
     "output_type": "stream",
     "text": [
      "100%|██████████| 318/318 [02:15<00:00,  2.34it/s]"
     ]
    },
    {
     "name": "stdout",
     "output_type": "stream",
     "text": [
      "train epoch 11 : loss : 0.1727, acc: 0.9376, kappa: 0.8870\n"
     ]
    },
    {
     "name": "stderr",
     "output_type": "stream",
     "text": [
      "\n",
      "100%|██████████| 20/20 [00:27<00:00,  1.38s/it]"
     ]
    },
    {
     "name": "stdout",
     "output_type": "stream",
     "text": [
      "val epoch 11 : loss : 0.2850, acc: 0.9047, kappa: 0.8305\n"
     ]
    },
    {
     "name": "stderr",
     "output_type": "stream",
     "text": [
      "\n"
     ]
    },
    {
     "name": "stdout",
     "output_type": "stream",
     "text": [
      "\n",
      "Epoch 12/100\n",
      "---------------\n"
     ]
    },
    {
     "name": "stderr",
     "output_type": "stream",
     "text": [
      "100%|██████████| 318/318 [02:14<00:00,  2.36it/s]"
     ]
    },
    {
     "name": "stdout",
     "output_type": "stream",
     "text": [
      "train epoch 12 : loss : 0.1427, acc: 0.9510, kappa: 0.9114\n"
     ]
    },
    {
     "name": "stderr",
     "output_type": "stream",
     "text": [
      "\n",
      "100%|██████████| 20/20 [00:27<00:00,  1.36s/it]"
     ]
    },
    {
     "name": "stdout",
     "output_type": "stream",
     "text": [
      "val epoch 12 : loss : 0.2527, acc: 0.9307, kappa: 0.8737\n"
     ]
    },
    {
     "name": "stderr",
     "output_type": "stream",
     "text": [
      "\n"
     ]
    },
    {
     "name": "stdout",
     "output_type": "stream",
     "text": [
      "\n",
      "Epoch 13/100\n",
      "---------------\n"
     ]
    },
    {
     "name": "stderr",
     "output_type": "stream",
     "text": [
      "100%|██████████| 318/318 [02:17<00:00,  2.31it/s]"
     ]
    },
    {
     "name": "stdout",
     "output_type": "stream",
     "text": [
      "train epoch 13 : loss : 0.1505, acc: 0.9481, kappa: 0.9059\n"
     ]
    },
    {
     "name": "stderr",
     "output_type": "stream",
     "text": [
      "\n",
      "100%|██████████| 20/20 [00:25<00:00,  1.29s/it]"
     ]
    },
    {
     "name": "stdout",
     "output_type": "stream",
     "text": [
      "val epoch 13 : loss : 0.1681, acc: 0.9425, kappa: 0.8954\n"
     ]
    },
    {
     "name": "stderr",
     "output_type": "stream",
     "text": [
      "\n"
     ]
    },
    {
     "name": "stdout",
     "output_type": "stream",
     "text": [
      "\n",
      "Epoch 14/100\n",
      "---------------\n"
     ]
    },
    {
     "name": "stderr",
     "output_type": "stream",
     "text": [
      "100%|██████████| 318/318 [02:15<00:00,  2.35it/s]"
     ]
    },
    {
     "name": "stdout",
     "output_type": "stream",
     "text": [
      "train epoch 14 : loss : 0.1190, acc: 0.9581, kappa: 0.9244\n"
     ]
    },
    {
     "name": "stderr",
     "output_type": "stream",
     "text": [
      "\n",
      "100%|██████████| 20/20 [00:27<00:00,  1.36s/it]"
     ]
    },
    {
     "name": "stdout",
     "output_type": "stream",
     "text": [
      "val epoch 14 : loss : 0.1753, acc: 0.9433, kappa: 0.8974\n"
     ]
    },
    {
     "name": "stderr",
     "output_type": "stream",
     "text": [
      "\n"
     ]
    },
    {
     "name": "stdout",
     "output_type": "stream",
     "text": [
      "\n",
      "Epoch 15/100\n",
      "---------------\n"
     ]
    },
    {
     "name": "stderr",
     "output_type": "stream",
     "text": [
      "100%|██████████| 318/318 [02:18<00:00,  2.30it/s]"
     ]
    },
    {
     "name": "stdout",
     "output_type": "stream",
     "text": [
      "train epoch 15 : loss : 0.1388, acc: 0.9473, kappa: 0.9048\n"
     ]
    },
    {
     "name": "stderr",
     "output_type": "stream",
     "text": [
      "\n",
      "100%|██████████| 20/20 [00:25<00:00,  1.27s/it]"
     ]
    },
    {
     "name": "stdout",
     "output_type": "stream",
     "text": [
      "val epoch 15 : loss : 0.2296, acc: 0.9283, kappa: 0.8714\n"
     ]
    },
    {
     "name": "stderr",
     "output_type": "stream",
     "text": [
      "\n"
     ]
    },
    {
     "name": "stdout",
     "output_type": "stream",
     "text": [
      "\n",
      "Epoch 16/100\n",
      "---------------\n"
     ]
    },
    {
     "name": "stderr",
     "output_type": "stream",
     "text": [
      "100%|██████████| 318/318 [02:15<00:00,  2.35it/s]"
     ]
    },
    {
     "name": "stdout",
     "output_type": "stream",
     "text": [
      "train epoch 16 : loss : 0.1283, acc: 0.9553, kappa: 0.9192\n"
     ]
    },
    {
     "name": "stderr",
     "output_type": "stream",
     "text": [
      "\n",
      "100%|██████████| 20/20 [00:27<00:00,  1.36s/it]"
     ]
    },
    {
     "name": "stdout",
     "output_type": "stream",
     "text": [
      "val epoch 16 : loss : 0.1773, acc: 0.9465, kappa: 0.9033\n"
     ]
    },
    {
     "name": "stderr",
     "output_type": "stream",
     "text": [
      "\n"
     ]
    },
    {
     "name": "stdout",
     "output_type": "stream",
     "text": [
      "\n",
      "Epoch 17/100\n",
      "---------------\n"
     ]
    },
    {
     "name": "stderr",
     "output_type": "stream",
     "text": [
      "100%|██████████| 318/318 [02:17<00:00,  2.31it/s]"
     ]
    },
    {
     "name": "stdout",
     "output_type": "stream",
     "text": [
      "train epoch 17 : loss : 0.1127, acc: 0.9630, kappa: 0.9333\n"
     ]
    },
    {
     "name": "stderr",
     "output_type": "stream",
     "text": [
      "\n",
      "100%|██████████| 20/20 [00:27<00:00,  1.37s/it]"
     ]
    },
    {
     "name": "stdout",
     "output_type": "stream",
     "text": [
      "val epoch 17 : loss : 0.1720, acc: 0.9441, kappa: 0.8998\n"
     ]
    },
    {
     "name": "stderr",
     "output_type": "stream",
     "text": [
      "\n"
     ]
    },
    {
     "name": "stdout",
     "output_type": "stream",
     "text": [
      "\n",
      "Epoch 18/100\n",
      "---------------\n"
     ]
    },
    {
     "name": "stderr",
     "output_type": "stream",
     "text": [
      "100%|██████████| 318/318 [02:14<00:00,  2.37it/s]"
     ]
    },
    {
     "name": "stdout",
     "output_type": "stream",
     "text": [
      "train epoch 18 : loss : 0.1106, acc: 0.9587, kappa: 0.9255\n"
     ]
    },
    {
     "name": "stderr",
     "output_type": "stream",
     "text": [
      "\n",
      "100%|██████████| 20/20 [00:27<00:00,  1.35s/it]"
     ]
    },
    {
     "name": "stdout",
     "output_type": "stream",
     "text": [
      "val epoch 18 : loss : 0.1980, acc: 0.9441, kappa: 0.8979\n"
     ]
    },
    {
     "name": "stderr",
     "output_type": "stream",
     "text": [
      "\n"
     ]
    },
    {
     "name": "stdout",
     "output_type": "stream",
     "text": [
      "\n",
      "Epoch 19/100\n",
      "---------------\n"
     ]
    },
    {
     "name": "stderr",
     "output_type": "stream",
     "text": [
      "100%|██████████| 318/318 [02:17<00:00,  2.32it/s]"
     ]
    },
    {
     "name": "stdout",
     "output_type": "stream",
     "text": [
      "train epoch 19 : loss : 0.1124, acc: 0.9614, kappa: 0.9304\n"
     ]
    },
    {
     "name": "stderr",
     "output_type": "stream",
     "text": [
      "\n",
      "100%|██████████| 20/20 [00:25<00:00,  1.27s/it]"
     ]
    },
    {
     "name": "stdout",
     "output_type": "stream",
     "text": [
      "val epoch 19 : loss : 0.1747, acc: 0.9425, kappa: 0.8957\n"
     ]
    },
    {
     "name": "stderr",
     "output_type": "stream",
     "text": [
      "\n"
     ]
    },
    {
     "name": "stdout",
     "output_type": "stream",
     "text": [
      "\n",
      "Epoch 20/100\n",
      "---------------\n"
     ]
    },
    {
     "name": "stderr",
     "output_type": "stream",
     "text": [
      "100%|██████████| 318/318 [02:15<00:00,  2.34it/s]"
     ]
    },
    {
     "name": "stdout",
     "output_type": "stream",
     "text": [
      "train epoch 20 : loss : 0.1128, acc: 0.9595, kappa: 0.9269\n"
     ]
    },
    {
     "name": "stderr",
     "output_type": "stream",
     "text": [
      "\n",
      "100%|██████████| 20/20 [00:27<00:00,  1.38s/it]"
     ]
    },
    {
     "name": "stdout",
     "output_type": "stream",
     "text": [
      "val epoch 20 : loss : 0.1736, acc: 0.9402, kappa: 0.8929\n"
     ]
    },
    {
     "name": "stderr",
     "output_type": "stream",
     "text": [
      "\n"
     ]
    },
    {
     "name": "stdout",
     "output_type": "stream",
     "text": [
      "\n",
      "Epoch 21/100\n",
      "---------------\n"
     ]
    },
    {
     "name": "stderr",
     "output_type": "stream",
     "text": [
      "100%|██████████| 318/318 [02:15<00:00,  2.35it/s]"
     ]
    },
    {
     "name": "stdout",
     "output_type": "stream",
     "text": [
      "train epoch 21 : loss : 0.1017, acc: 0.9638, kappa: 0.9348\n"
     ]
    },
    {
     "name": "stderr",
     "output_type": "stream",
     "text": [
      "\n",
      "100%|██████████| 20/20 [00:26<00:00,  1.30s/it]"
     ]
    },
    {
     "name": "stdout",
     "output_type": "stream",
     "text": [
      "val epoch 21 : loss : 0.1918, acc: 0.9323, kappa: 0.8772\n"
     ]
    },
    {
     "name": "stderr",
     "output_type": "stream",
     "text": [
      "\n"
     ]
    },
    {
     "name": "stdout",
     "output_type": "stream",
     "text": [
      "\n",
      "Epoch 22/100\n",
      "---------------\n"
     ]
    },
    {
     "name": "stderr",
     "output_type": "stream",
     "text": [
      "100%|██████████| 318/318 [02:15<00:00,  2.34it/s]"
     ]
    },
    {
     "name": "stdout",
     "output_type": "stream",
     "text": [
      "train epoch 22 : loss : 0.0551, acc: 0.9801, kappa: 0.9642\n"
     ]
    },
    {
     "name": "stderr",
     "output_type": "stream",
     "text": [
      "\n",
      "100%|██████████| 20/20 [00:26<00:00,  1.32s/it]"
     ]
    },
    {
     "name": "stdout",
     "output_type": "stream",
     "text": [
      "val epoch 22 : loss : 0.1353, acc: 0.9606, kappa: 0.9289\n"
     ]
    },
    {
     "name": "stderr",
     "output_type": "stream",
     "text": [
      "\n"
     ]
    },
    {
     "name": "stdout",
     "output_type": "stream",
     "text": [
      "\n",
      "Epoch 23/100\n",
      "---------------\n"
     ]
    },
    {
     "name": "stderr",
     "output_type": "stream",
     "text": [
      "100%|██████████| 318/318 [02:14<00:00,  2.36it/s]"
     ]
    },
    {
     "name": "stdout",
     "output_type": "stream",
     "text": [
      "train epoch 23 : loss : 0.0353, acc: 0.9872, kappa: 0.9770\n"
     ]
    },
    {
     "name": "stderr",
     "output_type": "stream",
     "text": [
      "\n",
      "100%|██████████| 20/20 [00:27<00:00,  1.37s/it]"
     ]
    },
    {
     "name": "stdout",
     "output_type": "stream",
     "text": [
      "val epoch 23 : loss : 0.1307, acc: 0.9669, kappa: 0.9405\n"
     ]
    },
    {
     "name": "stderr",
     "output_type": "stream",
     "text": [
      "\n"
     ]
    },
    {
     "name": "stdout",
     "output_type": "stream",
     "text": [
      "\n",
      "Epoch 24/100\n",
      "---------------\n"
     ]
    },
    {
     "name": "stderr",
     "output_type": "stream",
     "text": [
      "100%|██████████| 318/318 [02:18<00:00,  2.29it/s]"
     ]
    },
    {
     "name": "stdout",
     "output_type": "stream",
     "text": [
      "train epoch 24 : loss : 0.0328, acc: 0.9888, kappa: 0.9798\n"
     ]
    },
    {
     "name": "stderr",
     "output_type": "stream",
     "text": [
      "\n",
      "100%|██████████| 20/20 [00:27<00:00,  1.38s/it]"
     ]
    },
    {
     "name": "stdout",
     "output_type": "stream",
     "text": [
      "val epoch 24 : loss : 0.1344, acc: 0.9622, kappa: 0.9318\n"
     ]
    },
    {
     "name": "stderr",
     "output_type": "stream",
     "text": [
      "\n"
     ]
    },
    {
     "name": "stdout",
     "output_type": "stream",
     "text": [
      "\n",
      "Epoch 25/100\n",
      "---------------\n"
     ]
    },
    {
     "name": "stderr",
     "output_type": "stream",
     "text": [
      "100%|██████████| 318/318 [02:15<00:00,  2.34it/s]"
     ]
    },
    {
     "name": "stdout",
     "output_type": "stream",
     "text": [
      "train epoch 25 : loss : 0.0261, acc: 0.9913, kappa: 0.9844\n"
     ]
    },
    {
     "name": "stderr",
     "output_type": "stream",
     "text": [
      "\n",
      "100%|██████████| 20/20 [00:27<00:00,  1.38s/it]"
     ]
    },
    {
     "name": "stdout",
     "output_type": "stream",
     "text": [
      "val epoch 25 : loss : 0.1314, acc: 0.9709, kappa: 0.9478\n"
     ]
    },
    {
     "name": "stderr",
     "output_type": "stream",
     "text": [
      "\n"
     ]
    },
    {
     "name": "stdout",
     "output_type": "stream",
     "text": [
      "\n",
      "Epoch 26/100\n",
      "---------------\n"
     ]
    },
    {
     "name": "stderr",
     "output_type": "stream",
     "text": [
      "100%|██████████| 318/318 [02:17<00:00,  2.31it/s]"
     ]
    },
    {
     "name": "stdout",
     "output_type": "stream",
     "text": [
      "train epoch 26 : loss : 0.0266, acc: 0.9909, kappa: 0.9837\n"
     ]
    },
    {
     "name": "stderr",
     "output_type": "stream",
     "text": [
      "\n",
      "100%|██████████| 20/20 [00:27<00:00,  1.37s/it]"
     ]
    },
    {
     "name": "stdout",
     "output_type": "stream",
     "text": [
      "val epoch 26 : loss : 0.1399, acc: 0.9638, kappa: 0.9348\n"
     ]
    },
    {
     "name": "stderr",
     "output_type": "stream",
     "text": [
      "\n"
     ]
    },
    {
     "name": "stdout",
     "output_type": "stream",
     "text": [
      "\n",
      "Epoch 27/100\n",
      "---------------\n"
     ]
    },
    {
     "name": "stderr",
     "output_type": "stream",
     "text": [
      "100%|██████████| 318/318 [02:17<00:00,  2.32it/s]"
     ]
    },
    {
     "name": "stdout",
     "output_type": "stream",
     "text": [
      "train epoch 27 : loss : 0.0228, acc: 0.9925, kappa: 0.9865\n"
     ]
    },
    {
     "name": "stderr",
     "output_type": "stream",
     "text": [
      "\n",
      "100%|██████████| 20/20 [00:26<00:00,  1.31s/it]"
     ]
    },
    {
     "name": "stdout",
     "output_type": "stream",
     "text": [
      "val epoch 27 : loss : 0.1396, acc: 0.9646, kappa: 0.9363\n"
     ]
    },
    {
     "name": "stderr",
     "output_type": "stream",
     "text": [
      "\n"
     ]
    },
    {
     "name": "stdout",
     "output_type": "stream",
     "text": [
      "\n",
      "Epoch 28/100\n",
      "---------------\n"
     ]
    },
    {
     "name": "stderr",
     "output_type": "stream",
     "text": [
      "100%|██████████| 318/318 [02:18<00:00,  2.30it/s]"
     ]
    },
    {
     "name": "stdout",
     "output_type": "stream",
     "text": [
      "train epoch 28 : loss : 0.0275, acc: 0.9929, kappa: 0.9873\n"
     ]
    },
    {
     "name": "stderr",
     "output_type": "stream",
     "text": [
      "\n",
      "100%|██████████| 20/20 [00:26<00:00,  1.35s/it]"
     ]
    },
    {
     "name": "stdout",
     "output_type": "stream",
     "text": [
      "val epoch 28 : loss : 0.1340, acc: 0.9646, kappa: 0.9363\n"
     ]
    },
    {
     "name": "stderr",
     "output_type": "stream",
     "text": [
      "\n"
     ]
    },
    {
     "name": "stdout",
     "output_type": "stream",
     "text": [
      "\n",
      "Epoch 29/100\n",
      "---------------\n"
     ]
    },
    {
     "name": "stderr",
     "output_type": "stream",
     "text": [
      "100%|██████████| 318/318 [02:14<00:00,  2.36it/s]"
     ]
    },
    {
     "name": "stdout",
     "output_type": "stream",
     "text": [
      "train epoch 29 : loss : 0.0182, acc: 0.9939, kappa: 0.9890\n"
     ]
    },
    {
     "name": "stderr",
     "output_type": "stream",
     "text": [
      "\n",
      "100%|██████████| 20/20 [00:27<00:00,  1.36s/it]"
     ]
    },
    {
     "name": "stdout",
     "output_type": "stream",
     "text": [
      "val epoch 29 : loss : 0.1337, acc: 0.9685, kappa: 0.9435\n"
     ]
    },
    {
     "name": "stderr",
     "output_type": "stream",
     "text": [
      "\n"
     ]
    },
    {
     "name": "stdout",
     "output_type": "stream",
     "text": [
      "\n",
      "Epoch 30/100\n",
      "---------------\n"
     ]
    },
    {
     "name": "stderr",
     "output_type": "stream",
     "text": [
      "100%|██████████| 318/318 [02:16<00:00,  2.33it/s]"
     ]
    },
    {
     "name": "stdout",
     "output_type": "stream",
     "text": [
      "train epoch 30 : loss : 0.0202, acc: 0.9941, kappa: 0.9894\n"
     ]
    },
    {
     "name": "stderr",
     "output_type": "stream",
     "text": [
      "\n",
      "100%|██████████| 20/20 [00:25<00:00,  1.30s/it]"
     ]
    },
    {
     "name": "stdout",
     "output_type": "stream",
     "text": [
      "val epoch 30 : loss : 0.1282, acc: 0.9693, kappa: 0.9450\n"
     ]
    },
    {
     "name": "stderr",
     "output_type": "stream",
     "text": [
      "\n"
     ]
    },
    {
     "name": "stdout",
     "output_type": "stream",
     "text": [
      "\n",
      "Epoch 31/100\n",
      "---------------\n"
     ]
    },
    {
     "name": "stderr",
     "output_type": "stream",
     "text": [
      "100%|██████████| 318/318 [02:16<00:00,  2.32it/s]"
     ]
    },
    {
     "name": "stdout",
     "output_type": "stream",
     "text": [
      "train epoch 31 : loss : 0.0135, acc: 0.9961, kappa: 0.9929\n"
     ]
    },
    {
     "name": "stderr",
     "output_type": "stream",
     "text": [
      "\n",
      "100%|██████████| 20/20 [00:26<00:00,  1.33s/it]"
     ]
    },
    {
     "name": "stdout",
     "output_type": "stream",
     "text": [
      "val epoch 31 : loss : 0.1376, acc: 0.9677, kappa: 0.9421\n"
     ]
    },
    {
     "name": "stderr",
     "output_type": "stream",
     "text": [
      "\n"
     ]
    },
    {
     "name": "stdout",
     "output_type": "stream",
     "text": [
      "\n",
      "Epoch 32/100\n",
      "---------------\n"
     ]
    },
    {
     "name": "stderr",
     "output_type": "stream",
     "text": [
      "100%|██████████| 318/318 [02:15<00:00,  2.35it/s]"
     ]
    },
    {
     "name": "stdout",
     "output_type": "stream",
     "text": [
      "train epoch 32 : loss : 0.0153, acc: 0.9947, kappa: 0.9904\n"
     ]
    },
    {
     "name": "stderr",
     "output_type": "stream",
     "text": [
      "\n",
      "100%|██████████| 20/20 [00:27<00:00,  1.37s/it]"
     ]
    },
    {
     "name": "stdout",
     "output_type": "stream",
     "text": [
      "val epoch 32 : loss : 0.1466, acc: 0.9709, kappa: 0.9477\n"
     ]
    },
    {
     "name": "stderr",
     "output_type": "stream",
     "text": [
      "\n"
     ]
    },
    {
     "name": "stdout",
     "output_type": "stream",
     "text": [
      "\n",
      "Epoch 33/100\n",
      "---------------\n"
     ]
    },
    {
     "name": "stderr",
     "output_type": "stream",
     "text": [
      "100%|██████████| 318/318 [02:16<00:00,  2.32it/s]"
     ]
    },
    {
     "name": "stdout",
     "output_type": "stream",
     "text": [
      "train epoch 33 : loss : 0.0197, acc: 0.9939, kappa: 0.9890\n"
     ]
    },
    {
     "name": "stderr",
     "output_type": "stream",
     "text": [
      "\n",
      "100%|██████████| 20/20 [00:25<00:00,  1.29s/it]"
     ]
    },
    {
     "name": "stdout",
     "output_type": "stream",
     "text": [
      "val epoch 33 : loss : 0.1498, acc: 0.9685, kappa: 0.9434\n"
     ]
    },
    {
     "name": "stderr",
     "output_type": "stream",
     "text": [
      "\n"
     ]
    },
    {
     "name": "stdout",
     "output_type": "stream",
     "text": [
      "\n",
      "Epoch 34/100\n",
      "---------------\n"
     ]
    },
    {
     "name": "stderr",
     "output_type": "stream",
     "text": [
      "100%|██████████| 318/318 [02:17<00:00,  2.32it/s]"
     ]
    },
    {
     "name": "stdout",
     "output_type": "stream",
     "text": [
      "train epoch 34 : loss : 0.0135, acc: 0.9955, kappa: 0.9919\n"
     ]
    },
    {
     "name": "stderr",
     "output_type": "stream",
     "text": [
      "\n",
      "100%|██████████| 20/20 [00:26<00:00,  1.35s/it]"
     ]
    },
    {
     "name": "stdout",
     "output_type": "stream",
     "text": [
      "val epoch 34 : loss : 0.1443, acc: 0.9669, kappa: 0.9408\n"
     ]
    },
    {
     "name": "stderr",
     "output_type": "stream",
     "text": [
      "\n"
     ]
    },
    {
     "name": "stdout",
     "output_type": "stream",
     "text": [
      "\n",
      "Epoch 35/100\n",
      "---------------\n"
     ]
    },
    {
     "name": "stderr",
     "output_type": "stream",
     "text": [
      "100%|██████████| 318/318 [02:15<00:00,  2.35it/s]"
     ]
    },
    {
     "name": "stdout",
     "output_type": "stream",
     "text": [
      "train epoch 35 : loss : 0.0146, acc: 0.9951, kappa: 0.9911\n"
     ]
    },
    {
     "name": "stderr",
     "output_type": "stream",
     "text": [
      "\n",
      "100%|██████████| 20/20 [00:27<00:00,  1.36s/it]"
     ]
    },
    {
     "name": "stdout",
     "output_type": "stream",
     "text": [
      "val epoch 35 : loss : 0.1436, acc: 0.9685, kappa: 0.9435\n"
     ]
    },
    {
     "name": "stderr",
     "output_type": "stream",
     "text": [
      "\n"
     ]
    },
    {
     "name": "stdout",
     "output_type": "stream",
     "text": [
      "\n",
      "Epoch 36/100\n",
      "---------------\n"
     ]
    },
    {
     "name": "stderr",
     "output_type": "stream",
     "text": [
      "100%|██████████| 318/318 [02:18<00:00,  2.30it/s]"
     ]
    },
    {
     "name": "stdout",
     "output_type": "stream",
     "text": [
      "train epoch 36 : loss : 0.0115, acc: 0.9951, kappa: 0.9911\n"
     ]
    },
    {
     "name": "stderr",
     "output_type": "stream",
     "text": [
      "\n",
      "100%|██████████| 20/20 [00:25<00:00,  1.25s/it]"
     ]
    },
    {
     "name": "stdout",
     "output_type": "stream",
     "text": [
      "val epoch 36 : loss : 0.1576, acc: 0.9685, kappa: 0.9437\n"
     ]
    },
    {
     "name": "stderr",
     "output_type": "stream",
     "text": [
      "\n"
     ]
    },
    {
     "name": "stdout",
     "output_type": "stream",
     "text": [
      "\n",
      "Epoch 37/100\n",
      "---------------\n"
     ]
    },
    {
     "name": "stderr",
     "output_type": "stream",
     "text": [
      "100%|██████████| 318/318 [02:16<00:00,  2.33it/s]"
     ]
    },
    {
     "name": "stdout",
     "output_type": "stream",
     "text": [
      "train epoch 37 : loss : 0.0127, acc: 0.9961, kappa: 0.9929\n"
     ]
    },
    {
     "name": "stderr",
     "output_type": "stream",
     "text": [
      "\n",
      "100%|██████████| 20/20 [00:27<00:00,  1.38s/it]"
     ]
    },
    {
     "name": "stdout",
     "output_type": "stream",
     "text": [
      "val epoch 37 : loss : 0.1634, acc: 0.9669, kappa: 0.9408\n"
     ]
    },
    {
     "name": "stderr",
     "output_type": "stream",
     "text": [
      "\n"
     ]
    },
    {
     "name": "stdout",
     "output_type": "stream",
     "text": [
      "\n",
      "Epoch 38/100\n",
      "---------------\n"
     ]
    },
    {
     "name": "stderr",
     "output_type": "stream",
     "text": [
      "100%|██████████| 318/318 [02:13<00:00,  2.38it/s]"
     ]
    },
    {
     "name": "stdout",
     "output_type": "stream",
     "text": [
      "train epoch 38 : loss : 0.0134, acc: 0.9945, kappa: 0.9901\n"
     ]
    },
    {
     "name": "stderr",
     "output_type": "stream",
     "text": [
      "\n",
      "100%|██████████| 20/20 [00:27<00:00,  1.37s/it]"
     ]
    },
    {
     "name": "stdout",
     "output_type": "stream",
     "text": [
      "val epoch 38 : loss : 0.1472, acc: 0.9724, kappa: 0.9507\n"
     ]
    },
    {
     "name": "stderr",
     "output_type": "stream",
     "text": [
      "\n"
     ]
    },
    {
     "name": "stdout",
     "output_type": "stream",
     "text": [
      "\n",
      "Epoch 39/100\n",
      "---------------\n"
     ]
    },
    {
     "name": "stderr",
     "output_type": "stream",
     "text": [
      "100%|██████████| 318/318 [02:17<00:00,  2.32it/s]"
     ]
    },
    {
     "name": "stdout",
     "output_type": "stream",
     "text": [
      "train epoch 39 : loss : 0.0144, acc: 0.9943, kappa: 0.9897\n"
     ]
    },
    {
     "name": "stderr",
     "output_type": "stream",
     "text": [
      "\n",
      "100%|██████████| 20/20 [00:25<00:00,  1.25s/it]"
     ]
    },
    {
     "name": "stdout",
     "output_type": "stream",
     "text": [
      "val epoch 39 : loss : 0.1470, acc: 0.9717, kappa: 0.9493\n"
     ]
    },
    {
     "name": "stderr",
     "output_type": "stream",
     "text": [
      "\n"
     ]
    },
    {
     "name": "stdout",
     "output_type": "stream",
     "text": [
      "\n",
      "Epoch 40/100\n",
      "---------------\n"
     ]
    },
    {
     "name": "stderr",
     "output_type": "stream",
     "text": [
      "100%|██████████| 318/318 [02:17<00:00,  2.31it/s]"
     ]
    },
    {
     "name": "stdout",
     "output_type": "stream",
     "text": [
      "train epoch 40 : loss : 0.0121, acc: 0.9955, kappa: 0.9919\n"
     ]
    },
    {
     "name": "stderr",
     "output_type": "stream",
     "text": [
      "\n",
      "100%|██████████| 20/20 [00:27<00:00,  1.37s/it]"
     ]
    },
    {
     "name": "stdout",
     "output_type": "stream",
     "text": [
      "val epoch 40 : loss : 0.1464, acc: 0.9724, kappa: 0.9507\n"
     ]
    },
    {
     "name": "stderr",
     "output_type": "stream",
     "text": [
      "\n"
     ]
    },
    {
     "name": "stdout",
     "output_type": "stream",
     "text": [
      "\n",
      "Epoch 41/100\n",
      "---------------\n"
     ]
    },
    {
     "name": "stderr",
     "output_type": "stream",
     "text": [
      "100%|██████████| 318/318 [02:16<00:00,  2.34it/s]"
     ]
    },
    {
     "name": "stdout",
     "output_type": "stream",
     "text": [
      "train epoch 41 : loss : 0.0073, acc: 0.9974, kappa: 0.9954\n"
     ]
    },
    {
     "name": "stderr",
     "output_type": "stream",
     "text": [
      "\n",
      "100%|██████████| 20/20 [00:27<00:00,  1.37s/it]"
     ]
    },
    {
     "name": "stdout",
     "output_type": "stream",
     "text": [
      "val epoch 41 : loss : 0.1480, acc: 0.9717, kappa: 0.9492\n"
     ]
    },
    {
     "name": "stderr",
     "output_type": "stream",
     "text": [
      "\n"
     ]
    },
    {
     "name": "stdout",
     "output_type": "stream",
     "text": [
      "\n",
      "Epoch 42/100\n",
      "---------------\n"
     ]
    },
    {
     "name": "stderr",
     "output_type": "stream",
     "text": [
      "100%|██████████| 318/318 [02:17<00:00,  2.31it/s]"
     ]
    },
    {
     "name": "stdout",
     "output_type": "stream",
     "text": [
      "train epoch 42 : loss : 0.0103, acc: 0.9970, kappa: 0.9947\n"
     ]
    },
    {
     "name": "stderr",
     "output_type": "stream",
     "text": [
      "\n",
      "100%|██████████| 20/20 [00:25<00:00,  1.30s/it]"
     ]
    },
    {
     "name": "stdout",
     "output_type": "stream",
     "text": [
      "val epoch 42 : loss : 0.1450, acc: 0.9724, kappa: 0.9507\n"
     ]
    },
    {
     "name": "stderr",
     "output_type": "stream",
     "text": [
      "\n"
     ]
    },
    {
     "name": "stdout",
     "output_type": "stream",
     "text": [
      "\n",
      "Epoch 43/100\n",
      "---------------\n"
     ]
    },
    {
     "name": "stderr",
     "output_type": "stream",
     "text": [
      "100%|██████████| 318/318 [02:15<00:00,  2.35it/s]"
     ]
    },
    {
     "name": "stdout",
     "output_type": "stream",
     "text": [
      "train epoch 43 : loss : 0.0117, acc: 0.9963, kappa: 0.9933\n"
     ]
    },
    {
     "name": "stderr",
     "output_type": "stream",
     "text": [
      "\n",
      "100%|██████████| 20/20 [00:26<00:00,  1.34s/it]"
     ]
    },
    {
     "name": "stdout",
     "output_type": "stream",
     "text": [
      "val epoch 43 : loss : 0.1457, acc: 0.9709, kappa: 0.9478\n"
     ]
    },
    {
     "name": "stderr",
     "output_type": "stream",
     "text": [
      "\n"
     ]
    },
    {
     "name": "stdout",
     "output_type": "stream",
     "text": [
      "EARLY STOP AFTER 43 EPOCHS\n",
      "Training complete in 119m 27s\n",
      "Best val loss: 0.128225\n",
      "Best val Kappa: 0.9507225875685671\n"
     ]
    }
   ],
   "source": [
    "checkpoint_p = '/content/drive/MyDrive/CAD/swin_s_v2_ce.pth'\n",
    "swin = train_model(swin, dataloaders, criterion, optimizer, lr_scheduler, checkpoint_p, early_stop_patience=ES_PATIENCE, num_epochs=EPOCHS, writer_path = writer_path)"
   ]
  },
  {
   "cell_type": "markdown",
   "metadata": {
    "id": "OJVnXDMjIqd5"
   },
   "source": [
    "#### Load the saved model"
   ]
  },
  {
   "cell_type": "code",
   "execution_count": null,
   "metadata": {
    "colab": {
     "base_uri": "https://localhost:8080/"
    },
    "id": "7ZOktnWHItOK",
    "outputId": "dbe8ecf2-6f15-4725-cc80-b4d8514309cc"
   },
   "outputs": [
    {
     "data": {
      "text/plain": [
       "<All keys matched successfully>"
      ]
     },
     "execution_count": 65,
     "metadata": {},
     "output_type": "execute_result"
    }
   ],
   "source": [
    "swin_s_best_2 = model_factory.make_swin_v2(False, DEVICE)\n",
    "swin_s_best_2.load_state_dict(torch.load('/content/drive/MyDrive/CAD/swin_s_v2_ce_best.pth'))"
   ]
  },
  {
   "cell_type": "code",
   "execution_count": null,
   "metadata": {
    "colab": {
     "base_uri": "https://localhost:8080/"
    },
    "id": "1fwGA_XiJM8y",
    "outputId": "b951c831-84a4-4fe9-be0b-eb0bb8f06772"
   },
   "outputs": [
    {
     "name": "stderr",
     "output_type": "stream",
     "text": [
      "100%|██████████| 20/20 [00:25<00:00,  1.25s/it]"
     ]
    },
    {
     "name": "stdout",
     "output_type": "stream",
     "text": [
      "Test Acc: 0.9724, kappa: 0.9507\n",
      "Testing complete in 0m 25s\n"
     ]
    },
    {
     "name": "stderr",
     "output_type": "stream",
     "text": [
      "\n"
     ]
    }
   ],
   "source": [
    "since = time.time()\n",
    "swin_s_best_2.eval()\n",
    "running_labels = []\n",
    "running_preds = []\n",
    "outputs_all = []\n",
    "\n",
    "# Iterate over data.\n",
    "with torch.no_grad():\n",
    "    for batch in tqdm(val_loader):\n",
    "        inputs = batch[\"image\"].to(DEVICE)\n",
    "        labels = batch[\"label\"].to(DEVICE)\n",
    "        outputs = swin_s_best_2(inputs)\n",
    "        _, preds = torch.max(outputs, 1)\n",
    "        running_labels = running_labels + labels.int().cpu().tolist()\n",
    "        running_preds = running_preds + preds.int().cpu().tolist()\n",
    "        probas = F.softmax(outputs, dim=1)\n",
    "        outputs_all.append(probas.cpu().numpy())\n",
    "    test_kappa = cohen_kappa_score(running_labels, running_preds)\n",
    "    test_acc = accuracy_score(running_labels, running_preds)\n",
    "    print(f'Test Acc: {test_acc:.4f}, kappa: {test_kappa:.4f}')\n",
    "\n",
    "    time_elapsed = time.time() - since\n",
    "    print(f'Testing complete in {time_elapsed // 60:.0f}m {time_elapsed % 60:.0f}s')"
   ]
  },
  {
   "cell_type": "code",
   "execution_count": null,
   "metadata": {
    "colab": {
     "base_uri": "https://localhost:8080/",
     "height": 574
    },
    "id": "figUVNLJJb7I",
    "outputId": "5e789ecc-cbfc-419a-e2d8-04e465370121"
   },
   "outputs": [
    {
     "name": "stdout",
     "output_type": "stream",
     "text": [
      "Confusion matrix, without normalization\n",
      "[[660   8  10]\n",
      " [  7 486   5]\n",
      " [  2   3  89]]\n"
     ]
    },
    {
     "data": {
      "text/plain": [
       "<Axes: title={'center': 'Confusion matrix'}, xlabel='Predicted label', ylabel='True label'>"
      ]
     },
     "execution_count": 67,
     "metadata": {},
     "output_type": "execute_result"
    },
    {
     "data": {
      "image/png": "[encoded data removed]",
      "text/plain": [
       "<Figure size 640x480 with 2 Axes>"
      ]
     },
     "metadata": {},
     "output_type": "display_data"
    }
   ],
   "source": [
    "plot_confusion_matrix(running_labels, running_preds, ['Mel', 'BCC', 'SCC'],\n",
    "                          normalize=False,\n",
    "                          title='Confusion matrix',\n",
    "                          cmap=plt.cm.Blues)"
   ]
  },
  {
   "cell_type": "code",
   "execution_count": null,
   "metadata": {
    "colab": {
     "base_uri": "https://localhost:8080/",
     "height": 489
    },
    "id": "WTjxhSklJgxZ",
    "outputId": "8442706c-60c7-4f7f-a60d-ee90a02a2342"
   },
   "outputs": [
    {
     "data": {
      "image/png": "[encoded data removed]",
      "text/plain": [
       "<Figure size 640x480 with 1 Axes>"
      ]
     },
     "metadata": {},
     "output_type": "display_data"
    },
    {
     "data": {
      "text/plain": [
       "{0: 0.9956026269632463, 1: 0.9967395488690514, 2: 0.9942014039658417}"
      ]
     },
     "execution_count": 68,
     "metadata": {},
     "output_type": "execute_result"
    }
   ],
   "source": [
    "probas = np.vstack(outputs_all)\n",
    "plot_roc(running_labels, probas, True, 'Swin S V2')"
   ]
  },
  {
   "cell_type": "code",
   "execution_count": null,
   "metadata": {
    "colab": {
     "base_uri": "https://localhost:8080/"
    },
    "id": "wOJaZdExJnsr",
    "outputId": "7232ed48-fc7b-4c6d-caf1-0b71c5f7c0b0"
   },
   "outputs": [
    {
     "name": "stdout",
     "output_type": "stream",
     "text": [
      "Image xxx01102 done\n",
      "Image xxx01122 done\n",
      "Image xxx01137 done\n",
      "Image xxx01096 done\n",
      "Image xxx01126 done\n",
      "Image xxx01121 done\n",
      "Image xxx01089 done\n",
      "Image xxx01095 done\n",
      "Image xxx01087 done\n",
      "Image xxx01109 done\n",
      "Image xxx01110 done\n",
      "Image xxx01107 done\n",
      "Image xxx01091 done\n",
      "Image xxx01125 done\n",
      "Image xxx01082 done\n",
      "Image xxx01101 done\n",
      "Image xxx01156 done\n",
      "Image xxx01195 done\n",
      "Image xxx01158 done\n",
      "Image xxx01180 done\n",
      "Image xxx01181 done\n",
      "Image xxx01189 done\n",
      "Image xxx01188 done\n",
      "Image xxx01148 done\n",
      "Image xxx01162 done\n",
      "Image xxx01182 done\n",
      "Image xxx01147 done\n",
      "Image xxx01179 done\n",
      "Image xxx01138 done\n",
      "Image xxx01170 done\n",
      "Image xxx01171 done\n",
      "Image xxx01174 done\n",
      "Image xxx01160 done\n",
      "Image xxx01164 done\n",
      "Image xxx01161 done\n",
      "Image xxx01173 done\n",
      "Image xxx01153 done\n",
      "Image xxx01178 done\n",
      "Image xxx01145 done\n",
      "Image xxx01152 done\n",
      "Image xxx01142 done\n",
      "Image xxx01191 done\n",
      "Image xxx01143 done\n",
      "Image xxx01193 done\n",
      "Image xxx01155 done\n",
      "Image xxx01194 done\n",
      "Image xxx01200 done\n",
      "Image xxx01184 done\n",
      "Image xxx01196 done\n",
      "Image xxx01144 done\n",
      "Image xxx01151 done\n",
      "Image xxx01172 done\n",
      "Image xxx01141 done\n",
      "Image xxx01167 done\n",
      "Image xxx01159 done\n",
      "Image xxx01198 done\n",
      "Image xxx01190 done\n",
      "Image xxx01149 done\n",
      "Image xxx01154 done\n",
      "Image xxx01192 done\n",
      "Image xxx01197 done\n",
      "Image xxx01140 done\n",
      "Image xxx01165 done\n",
      "Image xxx01150 done\n",
      "Image xxx01177 done\n",
      "Image xxx01185 done\n",
      "Image xxx01163 done\n",
      "Image xxx01199 done\n",
      "Image xxx01186 done\n",
      "Image xxx01157 done\n",
      "Image xxx01176 done\n",
      "Image xxx01169 done\n",
      "Image xxx01187 done\n",
      "Image xxx01146 done\n",
      "Image xxx01166 done\n",
      "Image xxx01175 done\n",
      "Image xxx01168 done\n",
      "Image xxx01139 done\n",
      "Image xxx01183 done\n",
      "Image xxx01214 done\n",
      "Image xxx01265 done\n",
      "Image xxx01239 done\n",
      "Image xxx01234 done\n",
      "Image xxx01224 done\n",
      "Image xxx01241 done\n",
      "Image xxx01242 done\n",
      "Image xxx01203 done\n",
      "Image xxx01246 done\n",
      "Image xxx01223 done\n",
      "Image xxx01228 done\n",
      "Image xxx01229 done\n",
      "Image xxx01263 done\n",
      "Image xxx01244 done\n",
      "Image xxx01236 done\n",
      "Image xxx01266 done\n",
      "Image xxx01240 done\n",
      "Image xxx01213 done\n",
      "Image xxx01267 done\n",
      "Image xxx01237 done\n",
      "Image xxx01230 done\n",
      "Image xxx01233 done\n",
      "Image xxx01262 done\n",
      "Image xxx01245 done\n",
      "Image xxx01250 done\n",
      "Image xxx01208 done\n",
      "Image xxx01210 done\n",
      "Image xxx01264 done\n",
      "Image xxx01201 done\n",
      "Image xxx01259 done\n",
      "Image xxx01253 done\n",
      "Image xxx01219 done\n",
      "Image xxx01225 done\n",
      "Image xxx01206 done\n",
      "Image xxx01218 done\n",
      "Image xxx01227 done\n",
      "Image xxx01220 done\n",
      "Image xxx01226 done\n",
      "Image xxx01222 done\n",
      "Image xxx01248 done\n",
      "Image xxx01261 done\n",
      "Image xxx01202 done\n",
      "Image xxx01247 done\n",
      "Image xxx01235 done\n",
      "Image xxx01204 done\n",
      "Image xxx01258 done\n",
      "Image xxx01205 done\n",
      "Image xxx01207 done\n",
      "Image xxx01212 done\n",
      "Image xxx01211 done\n",
      "Image xxx01216 done\n",
      "Image xxx01254 done\n",
      "Image xxx01231 done\n",
      "Image xxx01249 done\n",
      "Image xxx01215 done\n",
      "Image xxx01257 done\n",
      "Image xxx01260 done\n",
      "Image xxx01256 done\n",
      "Image xxx01221 done\n",
      "Image xxx01209 done\n",
      "Image xxx01251 done\n",
      "Image xxx01217 done\n",
      "Image xxx01232 done\n",
      "Image xxx01243 done\n",
      "Image xxx01252 done\n",
      "Image xxx01255 done\n",
      "Image xxx01238 done\n",
      "Image xxx01301 done\n",
      "Image xxx01323 done\n",
      "Image xxx01277 done\n",
      "Image xxx01275 done\n",
      "Image xxx01321 done\n",
      "Image xxx01302 done\n",
      "Image xxx01300 done\n",
      "Image xxx01306 done\n",
      "Image xxx01305 done\n",
      "Image xxx01297 done\n",
      "Image xxx01289 done\n",
      "Image xxx01330 done\n",
      "Image xxx01293 done\n",
      "Image xxx01286 done\n",
      "Image xxx01317 done\n",
      "Image xxx01285 done\n",
      "Image xxx01295 done\n",
      "Image xxx01278 done\n",
      "Image xxx01331 done\n",
      "Image xxx01334 done\n",
      "Image xxx01319 done\n",
      "Image xxx01320 done\n",
      "Image xxx01318 done\n",
      "Image xxx01294 done\n",
      "Image xxx01325 done\n",
      "Image xxx01324 done\n",
      "Image xxx01279 done\n",
      "Image xxx01273 done\n",
      "Image xxx01332 done\n",
      "Image xxx01329 done\n",
      "Image xxx01307 done\n",
      "Image xxx01316 done\n",
      "Image xxx01333 done\n",
      "Image xxx01281 done\n",
      "Image xxx01303 done\n",
      "Image xxx01310 done\n",
      "Image xxx01290 done\n",
      "Image xxx01270 done\n",
      "Image xxx01326 done\n",
      "Image xxx01309 done\n",
      "Image xxx01288 done\n",
      "Image xxx01312 done\n",
      "Image xxx01282 done\n",
      "Image xxx01284 done\n",
      "Image xxx01292 done\n",
      "Image xxx01276 done\n",
      "Image xxx01269 done\n",
      "Image xxx01268 done\n",
      "Image xxx01299 done\n",
      "Image xxx01327 done\n",
      "Image xxx01298 done\n",
      "Image xxx01308 done\n",
      "Image xxx01296 done\n",
      "Image xxx01313 done\n",
      "Image xxx01304 done\n",
      "Image xxx01322 done\n",
      "Image xxx01291 done\n",
      "Image xxx01272 done\n",
      "Image xxx01314 done\n",
      "Image xxx01280 done\n",
      "Image xxx01328 done\n",
      "Image xxx01311 done\n",
      "Image xxx01271 done\n",
      "Image xxx01287 done\n",
      "Image xxx01274 done\n",
      "Image xxx01283 done\n",
      "Image xxx01315 done\n",
      "Image xxx01366 done\n",
      "Image xxx01383 done\n",
      "Image xxx01363 done\n",
      "Image xxx01373 done\n",
      "Image xxx01374 done\n",
      "Image xxx01391 done\n",
      "Image xxx01342 done\n",
      "Image xxx01352 done\n",
      "Image xxx01338 done\n",
      "Image xxx01351 done\n",
      "Image xxx01388 done\n",
      "Image xxx01371 done\n",
      "Image xxx01355 done\n",
      "Image xxx01364 done\n",
      "Image xxx01340 done\n",
      "Image xxx01392 done\n",
      "Image xxx01353 done\n",
      "Image xxx01387 done\n",
      "Image xxx01337 done\n",
      "Image xxx01350 done\n",
      "Image xxx01382 done\n",
      "Image xxx01401 done\n",
      "Image xxx01367 done\n",
      "Image xxx01397 done\n",
      "Image xxx01346 done\n",
      "Image xxx01398 done\n",
      "Image xxx01378 done\n",
      "Image xxx01394 done\n",
      "Image xxx01372 done\n",
      "Image xxx01400 done\n",
      "Image xxx01379 done\n",
      "Image xxx01356 done\n",
      "Image xxx01385 done\n",
      "Image xxx01359 done\n",
      "Image xxx01339 done\n",
      "Image xxx01345 done\n",
      "Image xxx01336 done\n",
      "Image xxx01381 done\n",
      "Image xxx01341 done\n",
      "Image xxx01376 done\n",
      "Image xxx01343 done\n",
      "Image xxx01347 done\n",
      "Image xxx01393 done\n",
      "Image xxx01344 done\n",
      "Image xxx01369 done\n",
      "Image xxx01361 done\n",
      "Image xxx01349 done\n",
      "Image xxx01360 done\n",
      "Image xxx01386 done\n",
      "Image xxx01384 done\n",
      "Image xxx01370 done\n",
      "Image xxx01335 done\n",
      "Image xxx01362 done\n",
      "Image xxx01354 done\n",
      "Image xxx01389 done\n",
      "Image xxx01348 done\n",
      "Image xxx01396 done\n",
      "Image xxx01399 done\n",
      "Image xxx01368 done\n",
      "Image xxx01357 done\n",
      "Image xxx01390 done\n",
      "Image xxx01380 done\n",
      "Image xxx01402 done\n",
      "Image xxx01365 done\n",
      "Image xxx01375 done\n",
      "Image xxx01358 done\n",
      "Image xxx01377 done\n",
      "Image xxx01395 done\n",
      "Image xxx01463 done\n",
      "Image xxx01433 done\n",
      "Image xxx01462 done\n",
      "Image xxx01403 done\n",
      "Image xxx01467 done\n",
      "Image xxx01447 done\n",
      "Image xxx01464 done\n",
      "Image xxx01412 done\n",
      "Image xxx01428 done\n",
      "Image xxx01454 done\n",
      "Image xxx01419 done\n",
      "Image xxx01432 done\n",
      "Image xxx01422 done\n",
      "Image xxx01450 done\n",
      "Image xxx01414 done\n",
      "Image xxx01442 done\n",
      "Image xxx01411 done\n",
      "Image xxx01438 done\n",
      "Image xxx01439 done\n",
      "Image xxx01444 done\n",
      "Image xxx01461 done\n",
      "Image xxx01469 done\n",
      "Image xxx01457 done\n",
      "Image xxx01404 done\n",
      "Image xxx01425 done\n",
      "Image xxx01443 done\n",
      "Image xxx01405 done\n",
      "Image xxx01436 done\n",
      "Image xxx01406 done\n",
      "Image xxx01453 done\n",
      "Image xxx01448 done\n",
      "Image xxx01431 done\n",
      "Image xxx01429 done\n",
      "Image xxx01455 done\n",
      "Image xxx01452 done\n",
      "Image xxx01449 done\n",
      "Image xxx01456 done\n",
      "Image xxx01435 done\n",
      "Image xxx01451 done\n",
      "Image xxx01410 done\n",
      "Image xxx01424 done\n",
      "Image xxx01416 done\n",
      "Image xxx01415 done\n",
      "Image xxx01413 done\n",
      "Image xxx01418 done\n",
      "Image xxx01470 done\n",
      "Image xxx01423 done\n",
      "Image xxx01408 done\n",
      "Image xxx01437 done\n",
      "Image xxx01427 done\n",
      "Image xxx01430 done\n",
      "Image xxx01466 done\n",
      "Image xxx01426 done\n",
      "Image xxx01460 done\n",
      "Image xxx01446 done\n",
      "Image xxx01421 done\n",
      "Image xxx01409 done\n",
      "Image xxx01434 done\n",
      "Image xxx01459 done\n",
      "Image xxx01441 done\n",
      "Image xxx01445 done\n",
      "Image xxx01420 done\n",
      "Image xxx01407 done\n",
      "Image xxx01468 done\n",
      "Image xxx01417 done\n",
      "Image xxx01440 done\n",
      "Image xxx01458 done\n",
      "Image xxx01465 done\n",
      "Image xxx01533 done\n",
      "Image xxx01509 done\n",
      "Image xxx01492 done\n",
      "Image xxx01501 done\n",
      "Image xxx01534 done\n",
      "Image xxx01474 done\n",
      "Image xxx01489 done\n",
      "Image xxx01506 done\n",
      "Image xxx01526 done\n",
      "Image xxx01528 done\n",
      "Image xxx01524 done\n",
      "Image xxx01495 done\n",
      "Image xxx01491 done\n",
      "Image xxx01490 done\n",
      "Image xxx01483 done\n",
      "Image xxx01527 done\n",
      "Image xxx01471 done\n",
      "Image xxx01496 done\n",
      "Image xxx01523 done\n",
      "Image xxx01512 done\n",
      "Image xxx01497 done\n",
      "Image xxx01486 done\n",
      "Image xxx01484 done\n",
      "Image xxx01529 done\n",
      "Image xxx01525 done\n",
      "Image xxx01505 done\n",
      "Image xxx01477 done\n",
      "Image xxx01508 done\n",
      "Image xxx01479 done\n",
      "Image xxx01482 done\n",
      "Image xxx01510 done\n",
      "Image xxx01517 done\n",
      "Image xxx01521 done\n",
      "Image xxx01475 done\n",
      "Image xxx01535 done\n",
      "Image xxx01502 done\n",
      "Image xxx01522 done\n",
      "Image xxx01516 done\n",
      "Image xxx01518 done\n",
      "Image xxx01487 done\n",
      "Image xxx01520 done\n",
      "Image xxx01511 done\n",
      "Image xxx01488 done\n",
      "Image xxx01513 done\n",
      "Image xxx01485 done\n",
      "Image xxx01472 done\n",
      "Image xxx01532 done\n",
      "Image xxx01480 done\n",
      "Image xxx01514 done\n",
      "Image xxx01476 done\n",
      "Image xxx01493 done\n",
      "Image xxx01500 done\n",
      "Image xxx01499 done\n",
      "Image xxx01515 done\n",
      "Image xxx01504 done\n",
      "Image xxx01473 done\n",
      "Image xxx01530 done\n",
      "Image xxx01481 done\n",
      "Image xxx01531 done\n",
      "Image xxx01519 done\n",
      "Image xxx01503 done\n",
      "Image xxx01494 done\n",
      "Image xxx01507 done\n",
      "Image xxx01498 done\n",
      "Image xxx01478 done\n",
      "Image xxx01546 done\n",
      "Image xxx01540 done\n",
      "Image xxx01557 done\n",
      "Image xxx01558 done\n",
      "Image xxx01579 done\n",
      "Image xxx01582 done\n",
      "Image xxx01559 done\n",
      "Image xxx01537 done\n",
      "Image xxx01543 done\n",
      "Image xxx01574 done\n",
      "Image xxx01601 done\n",
      "Image xxx01554 done\n",
      "Image xxx01560 done\n",
      "Image xxx01539 done\n",
      "Image xxx01555 done\n",
      "Image xxx01592 done\n",
      "Image xxx01576 done\n",
      "Image xxx01572 done\n",
      "Image xxx01563 done\n",
      "Image xxx01587 done\n",
      "Image xxx01570 done\n",
      "Image xxx01575 done\n",
      "Image xxx01547 done\n",
      "Image xxx01578 done\n",
      "Image xxx01594 done\n",
      "Image xxx01599 done\n",
      "Image xxx01561 done\n",
      "Image xxx01571 done\n",
      "Image xxx01549 done\n",
      "Image xxx01556 done\n",
      "Image xxx01596 done\n",
      "Image xxx01584 done\n",
      "Image xxx01544 done\n",
      "Image xxx01588 done\n",
      "Image xxx01598 done\n",
      "Image xxx01573 done\n",
      "Image xxx01586 done\n",
      "Image xxx01567 done\n",
      "Image xxx01585 done\n",
      "Image xxx01552 done\n",
      "Image xxx01589 done\n",
      "Image xxx01593 done\n",
      "Image xxx01541 done\n",
      "Image xxx01545 done\n",
      "Image xxx01566 done\n",
      "Image xxx01568 done\n",
      "Image xxx01569 done\n",
      "Image xxx01565 done\n",
      "Image xxx01542 done\n",
      "Image xxx01595 done\n",
      "Image xxx01577 done\n",
      "Image xxx01553 done\n",
      "Image xxx01590 done\n",
      "Image xxx01562 done\n",
      "Image xxx01581 done\n",
      "Image xxx01548 done\n",
      "Image xxx01583 done\n",
      "Image xxx01564 done\n",
      "Image xxx01551 done\n",
      "Image xxx01536 done\n",
      "Image xxx01580 done\n",
      "Image xxx01550 done\n",
      "Image xxx01591 done\n",
      "Image xxx01600 done\n",
      "Image xxx01597 done\n",
      "Image xxx01538 done\n",
      "Image xxx01604 done\n",
      "Image xxx01663 done\n",
      "Image xxx01669 done\n",
      "Image xxx01653 done\n",
      "Image xxx01662 done\n",
      "Image xxx01621 done\n",
      "Image xxx01618 done\n",
      "Image xxx01626 done\n",
      "Image xxx01644 done\n",
      "Image xxx01606 done\n",
      "Image xxx01667 done\n",
      "Image xxx01668 done\n",
      "Image xxx01651 done\n",
      "Image xxx01627 done\n",
      "Image xxx01612 done\n",
      "Image xxx01655 done\n",
      "Image xxx01617 done\n",
      "Image xxx01646 done\n",
      "Image xxx01664 done\n",
      "Image xxx01613 done\n",
      "Image xxx01641 done\n",
      "Image xxx01665 done\n",
      "Image xxx01628 done\n",
      "Image xxx01622 done\n",
      "Image xxx01654 done\n",
      "Image xxx01614 done\n",
      "Image xxx01629 done\n",
      "Image xxx01639 done\n",
      "Image xxx01632 done\n",
      "Image xxx01634 done\n",
      "Image xxx01625 done\n",
      "Image xxx01645 done\n",
      "Image xxx01603 done\n",
      "Image xxx01638 done\n",
      "Image xxx01610 done\n",
      "Image xxx01633 done\n",
      "Image xxx01658 done\n",
      "Image xxx01660 done\n",
      "Image xxx01609 done\n",
      "Image xxx01605 done\n",
      "Image xxx01602 done\n",
      "Image xxx01636 done\n",
      "Image xxx01642 done\n",
      "Image xxx01643 done\n",
      "Image xxx01607 done\n",
      "Image xxx01624 done\n",
      "Image xxx01640 done\n",
      "Image xxx01666 done\n",
      "Image xxx01656 done\n",
      "Image xxx01630 done\n",
      "Image xxx01616 done\n",
      "Image xxx01652 done\n",
      "Image xxx01611 done\n",
      "Image xxx01619 done\n",
      "Image xxx01620 done\n",
      "Image xxx01650 done\n",
      "Image xxx01623 done\n",
      "Image xxx01635 done\n",
      "Image xxx01661 done\n",
      "Image xxx01657 done\n",
      "Image xxx01649 done\n",
      "Image xxx01647 done\n",
      "Image xxx01659 done\n",
      "Image xxx01608 done\n",
      "Image xxx01648 done\n",
      "Image xxx01631 done\n",
      "Image xxx01615 done\n",
      "Image xxx01637 done\n",
      "Image xxx01705 done\n",
      "Image xxx01696 done\n",
      "Image xxx01689 done\n",
      "Image xxx01722 done\n",
      "Image xxx01734 done\n",
      "Image xxx01692 done\n",
      "Image xxx01712 done\n",
      "Image xxx01682 done\n",
      "Image xxx01693 done\n",
      "Image xxx01687 done\n",
      "Image xxx01720 done\n",
      "Image xxx01691 done\n",
      "Image xxx01686 done\n",
      "Image xxx01674 done\n",
      "Image xxx01732 done\n",
      "Image xxx01673 done\n",
      "Image xxx01709 done\n",
      "Image xxx01714 done\n",
      "Image xxx01694 done\n",
      "Image xxx01710 done\n",
      "Image xxx01683 done\n",
      "Image xxx01716 done\n",
      "Image xxx01700 done\n",
      "Image xxx01701 done\n",
      "Image xxx01703 done\n",
      "Image xxx01738 done\n",
      "Image xxx01684 done\n",
      "Image xxx01719 done\n",
      "Image xxx01725 done\n",
      "Image xxx01737 done\n",
      "Image xxx01678 done\n",
      "Image xxx01713 done\n",
      "Image xxx01726 done\n",
      "Image xxx01717 done\n",
      "Image xxx01708 done\n",
      "Image xxx01723 done\n",
      "Image xxx01690 done\n",
      "Image xxx01702 done\n",
      "Image xxx01704 done\n",
      "Image xxx01731 done\n",
      "Image xxx01676 done\n",
      "Image xxx01736 done\n",
      "Image xxx01735 done\n",
      "Image xxx01677 done\n",
      "Image xxx01727 done\n",
      "Image xxx01721 done\n",
      "Image xxx01718 done\n",
      "Image xxx01699 done\n",
      "Image xxx01685 done\n",
      "Image xxx01729 done\n",
      "Image xxx01670 done\n",
      "Image xxx01724 done\n",
      "Image xxx01695 done\n",
      "Image xxx01706 done\n",
      "Image xxx01715 done\n",
      "Image xxx01698 done\n",
      "Image xxx01711 done\n",
      "Image xxx01730 done\n",
      "Image xxx01707 done\n",
      "Image xxx01680 done\n",
      "Image xxx01679 done\n",
      "Image xxx01728 done\n",
      "Image xxx01697 done\n",
      "Image xxx01675 done\n",
      "Image xxx01681 done\n",
      "Image xxx01733 done\n",
      "Image xxx01672 done\n",
      "Image xxx01688 done\n",
      "Image xxx01671 done\n",
      "Image xxx01791 done\n",
      "Image xxx01758 done\n",
      "Image xxx01751 done\n",
      "Image xxx01762 done\n",
      "Image xxx01752 done\n",
      "Image xxx01780 done\n",
      "Image xxx01760 done\n",
      "Image xxx01761 done\n",
      "Image xxx01766 done\n",
      "Image xxx01772 done\n",
      "Image xxx01789 done\n",
      "Image xxx01746 done\n",
      "Image xxx01768 done\n",
      "Image xxx01757 done\n",
      "Image xxx01778 done\n",
      "Image xxx01747 done\n",
      "Image xxx01739 done\n",
      "Image xxx01756 done\n",
      "Image xxx01797 done\n",
      "Image xxx01765 done\n",
      "Image xxx01787 done\n",
      "Image xxx01782 done\n",
      "Image xxx01769 done\n",
      "Image xxx01763 done\n",
      "Image xxx01741 done\n",
      "Image xxx01777 done\n",
      "Image xxx01740 done\n",
      "Image xxx01775 done\n",
      "Image xxx01759 done\n",
      "Image xxx01783 done\n",
      "Image xxx01796 done\n",
      "Image xxx01785 done\n",
      "Image xxx01798 done\n",
      "Image xxx01755 done\n",
      "Image xxx01767 done\n",
      "Image xxx01793 done\n",
      "Image xxx01779 done\n",
      "Image xxx01770 done\n",
      "Image xxx01799 done\n",
      "Image xxx01794 done\n",
      "Image xxx01744 done\n",
      "Image xxx01764 done\n",
      "Image xxx01771 done\n",
      "Image xxx01795 done\n",
      "Image xxx01743 done\n",
      "Image xxx01748 done\n",
      "Image xxx01754 done\n",
      "Image xxx01802 done\n",
      "Image xxx01801 done\n",
      "Image xxx01742 done\n",
      "Image xxx01786 done\n",
      "Image xxx01776 done\n",
      "Image xxx01749 done\n",
      "Image xxx01800 done\n",
      "Image xxx01784 done\n",
      "Image xxx01750 done\n",
      "Image xxx01745 done\n",
      "Image xxx01774 done\n",
      "Image xxx01792 done\n",
      "Image xxx01781 done\n",
      "Image xxx01753 done\n",
      "Image xxx01773 done\n",
      "Image xxx01788 done\n",
      "Image xxx01790 done\n",
      "Image xxx01865 done\n",
      "Image xxx01816 done\n",
      "Image xxx01863 done\n",
      "Image xxx01841 done\n",
      "Image xxx01869 done\n",
      "Image xxx01854 done\n",
      "Image xxx01815 done\n",
      "Image xxx01821 done\n",
      "Image xxx01835 done\n",
      "Image xxx01817 done\n",
      "Image xxx01830 done\n",
      "Image xxx01837 done\n",
      "Image xxx01832 done\n",
      "Image xxx01838 done\n",
      "Image xxx01820 done\n",
      "Image xxx01819 done\n",
      "Image xxx01860 done\n",
      "Image xxx01870 done\n",
      "Image xxx01850 done\n",
      "Image xxx01824 done\n",
      "Image xxx01834 done\n",
      "Image xxx01845 done\n",
      "Image xxx01809 done\n",
      "Image xxx01811 done\n",
      "Image xxx01826 done\n",
      "Image xxx01859 done\n",
      "Image xxx01825 done\n",
      "Image xxx01852 done\n",
      "Image xxx01803 done\n",
      "Image xxx01828 done\n",
      "Image xxx01857 done\n",
      "Image xxx01818 done\n",
      "Image xxx01862 done\n",
      "Image xxx01858 done\n",
      "Image xxx01810 done\n",
      "Image xxx01806 done\n",
      "Image xxx01855 done\n",
      "Image xxx01833 done\n",
      "Image xxx01840 done\n",
      "Image xxx01844 done\n",
      "Image xxx01812 done\n",
      "Image xxx01813 done\n",
      "Image xxx01861 done\n",
      "Image xxx01836 done\n",
      "Image xxx01814 done\n",
      "Image xxx01846 done\n",
      "Image xxx01866 done\n",
      "Image xxx01864 done\n",
      "Image xxx01867 done\n",
      "Image xxx01843 done\n",
      "Image xxx01823 done\n",
      "Image xxx01807 done\n",
      "Image xxx01831 done\n",
      "Image xxx01805 done\n",
      "Image xxx01804 done\n",
      "Image xxx01808 done\n",
      "Image xxx01871 done\n",
      "Image xxx01856 done\n",
      "Image xxx01829 done\n",
      "Image xxx01842 done\n",
      "Image xxx01851 done\n",
      "Image xxx01827 done\n",
      "Image xxx01839 done\n",
      "Image xxx01868 done\n",
      "Image xxx01848 done\n",
      "Image xxx01853 done\n",
      "Image xxx01847 done\n",
      "Image xxx01822 done\n",
      "Image xxx01849 done\n",
      "Image xxx01899 done\n",
      "Image xxx01910 done\n",
      "Image xxx01905 done\n",
      "Image xxx01876 done\n",
      "Image xxx01891 done\n",
      "Image xxx01903 done\n",
      "Image xxx01874 done\n",
      "Image xxx01873 done\n",
      "Image xxx01892 done\n",
      "Image xxx01886 done\n",
      "Image xxx01908 done\n",
      "Image xxx01883 done\n",
      "Image xxx01880 done\n",
      "Image xxx01888 done\n",
      "Image xxx01877 done\n",
      "Image xxx01881 done\n",
      "Image xxx01878 done\n",
      "Image xxx01887 done\n",
      "Image xxx01906 done\n",
      "Image xxx01890 done\n",
      "Image xxx01907 done\n",
      "Image xxx01882 done\n",
      "Image xxx01900 done\n",
      "Image xxx01897 done\n",
      "Image xxx01896 done\n",
      "Image xxx01895 done\n",
      "Image xxx01884 done\n",
      "Image xxx01904 done\n",
      "Image xxx01872 done\n",
      "Image xxx01879 done\n",
      "Image xxx01901 done\n",
      "Image xxx01893 done\n",
      "Image xxx01898 done\n",
      "Image xxx01875 done\n",
      "Image xxx01909 done\n",
      "Image xxx01885 done\n",
      "Image xxx01889 done\n",
      "Image xxx01894 done\n",
      "Image xxx01902 done\n",
      "Image xxx01922 done\n",
      "Image xxx01941 done\n",
      "Image xxx01977 done\n",
      "Image xxx01943 done\n",
      "Image xxx01965 done\n",
      "Image xxx01920 done\n",
      "Image xxx01919 done\n",
      "Image xxx01949 done\n",
      "Image xxx01951 done\n",
      "Image xxx01968 done\n",
      "Image xxx01957 done\n",
      "Image xxx01946 done\n",
      "Image xxx01966 done\n",
      "Image xxx01926 done\n",
      "Image xxx01975 done\n",
      "Image xxx01918 done\n",
      "Image xxx01924 done\n",
      "Image xxx01933 done\n",
      "Image xxx01974 done\n",
      "Image xxx01921 done\n",
      "Image xxx01938 done\n",
      "Image xxx01945 done\n",
      "Image xxx01959 done\n",
      "Image xxx01928 done\n",
      "Image xxx01916 done\n",
      "Image xxx01973 done\n",
      "Image xxx01948 done\n",
      "Image xxx01913 done\n",
      "Image xxx01944 done\n",
      "Image xxx01915 done\n",
      "Image xxx01976 done\n",
      "Image xxx01969 done\n",
      "Image xxx01942 done\n",
      "Image xxx01937 done\n",
      "Image xxx01927 done\n",
      "Image xxx01964 done\n",
      "Image xxx01970 done\n",
      "Image xxx01912 done\n",
      "Image xxx01952 done\n",
      "Image xxx01925 done\n",
      "Image xxx01971 done\n",
      "Image xxx01930 done\n",
      "Image xxx01911 done\n",
      "Image xxx01947 done\n",
      "Image xxx01914 done\n",
      "Image xxx01917 done\n",
      "Image xxx01932 done\n",
      "Image xxx01963 done\n",
      "Image xxx01956 done\n",
      "Image xxx01936 done\n",
      "Image xxx01960 done\n",
      "Image xxx01923 done\n",
      "Image xxx01967 done\n",
      "Image xxx01935 done\n",
      "Image xxx01931 done\n",
      "Image xxx01934 done\n",
      "Image xxx01955 done\n",
      "Image xxx01958 done\n",
      "Image xxx01954 done\n",
      "Image xxx01950 done\n",
      "Image xxx01972 done\n",
      "Image xxx01929 done\n",
      "Image xxx01953 done\n",
      "Image xxx01961 done\n",
      "Image xxx01939 done\n",
      "Image xxx01962 done\n",
      "Image xxx01940 done\n",
      "Image xxx02031 done\n",
      "Image xxx02044 done\n",
      "Image xxx02029 done\n",
      "Image xxx01981 done\n",
      "Image xxx02005 done\n",
      "Image xxx02001 done\n",
      "Image xxx02008 done\n",
      "Image xxx02015 done\n",
      "Image xxx01978 done\n",
      "Image xxx02039 done\n",
      "Image xxx01990 done\n",
      "Image xxx02013 done\n",
      "Image xxx02026 done\n",
      "Image xxx02022 done\n",
      "Image xxx02006 done\n",
      "Image xxx02040 done\n",
      "Image xxx02027 done\n",
      "Image xxx02023 done\n",
      "Image xxx01979 done\n",
      "Image xxx02038 done\n",
      "Image xxx02024 done\n",
      "Image xxx01982 done\n",
      "Image xxx02007 done\n",
      "Image xxx02035 done\n",
      "Image xxx01998 done\n",
      "Image xxx02009 done\n",
      "Image xxx02036 done\n",
      "Image xxx01997 done\n",
      "Image xxx01994 done\n",
      "Image xxx02010 done\n",
      "Image xxx01987 done\n",
      "Image xxx02030 done\n",
      "Image xxx01993 done\n",
      "Image xxx02033 done\n",
      "Image xxx02043 done\n",
      "Image xxx02011 done\n",
      "Image xxx01995 done\n",
      "Image xxx01985 done\n",
      "Image xxx01983 done\n",
      "Image xxx02017 done\n",
      "Image xxx02025 done\n",
      "Image xxx02000 done\n",
      "Image xxx01989 done\n",
      "Image xxx02020 done\n",
      "Image xxx02016 done\n",
      "Image xxx02041 done\n",
      "Image xxx01986 done\n",
      "Image xxx02034 done\n",
      "Image xxx02042 done\n",
      "Image xxx01992 done\n",
      "Image xxx02018 done\n",
      "Image xxx02004 done\n",
      "Image xxx02014 done\n",
      "Image xxx02037 done\n",
      "Image xxx02032 done\n",
      "Image xxx01988 done\n",
      "Image xxx02012 done\n",
      "Image xxx01999 done\n",
      "Image xxx01980 done\n",
      "Image xxx01996 done\n",
      "Image xxx02002 done\n",
      "Image xxx02003 done\n",
      "Image xxx01991 done\n",
      "Image xxx02021 done\n",
      "Image xxx02019 done\n",
      "Image xxx02028 done\n",
      "Image xxx01984 done\n",
      "Image xxx02055 done\n",
      "Image xxx02085 done\n",
      "Image xxx02083 done\n",
      "Image xxx02050 done\n",
      "Image xxx02058 done\n",
      "Image xxx02102 done\n",
      "Image xxx02072 done\n",
      "Image xxx02045 done\n",
      "Image xxx02054 done\n",
      "Image xxx02071 done\n",
      "Image xxx02065 done\n",
      "Image xxx02093 done\n",
      "Image xxx02089 done\n",
      "Image xxx02081 done\n",
      "Image xxx02061 done\n",
      "Image xxx02080 done\n",
      "Image xxx02063 done\n",
      "Image xxx02086 done\n",
      "Image xxx02096 done\n",
      "Image xxx02053 done\n",
      "Image xxx02103 done\n",
      "Image xxx02073 done\n",
      "Image xxx02082 done\n",
      "Image xxx02097 done\n",
      "Image xxx02107 done\n",
      "Image xxx02059 done\n",
      "Image xxx02088 done\n",
      "Image xxx02067 done\n",
      "Image xxx02095 done\n",
      "Image xxx02070 done\n",
      "Image xxx02087 done\n",
      "Image xxx02057 done\n",
      "Image xxx02099 done\n",
      "Image xxx02062 done\n",
      "Image xxx02060 done\n",
      "Image xxx02075 done\n",
      "Image xxx02047 done\n",
      "Image xxx02046 done\n",
      "Image xxx02104 done\n",
      "Image xxx02090 done\n",
      "Image xxx02074 done\n",
      "Image xxx02066 done\n",
      "Image xxx02064 done\n",
      "Image xxx02100 done\n",
      "Image xxx02094 done\n",
      "Image xxx02069 done\n",
      "Image xxx02091 done\n",
      "Image xxx02077 done\n",
      "Image xxx02084 done\n",
      "Image xxx02078 done\n",
      "Image xxx02079 done\n",
      "Image xxx02092 done\n",
      "Image xxx02049 done\n",
      "Image xxx02056 done\n",
      "Image xxx02051 done\n",
      "Image xxx02105 done\n",
      "Image xxx02048 done\n",
      "Image xxx02101 done\n",
      "Image xxx02106 done\n",
      "Image xxx02076 done\n",
      "Image xxx02052 done\n",
      "Image xxx02098 done\n",
      "Image xxx02068 done\n",
      "Image xxx02120 done\n",
      "Image xxx02114 done\n",
      "Image xxx02110 done\n",
      "Image xxx02117 done\n",
      "Image xxx02112 done\n",
      "Image xxx02116 done\n",
      "Image xxx02111 done\n",
      "Image xxx02121 done\n",
      "Image xxx02109 done\n",
      "Image xxx02113 done\n",
      "Image xxx02115 done\n",
      "Image xxx02108 done\n",
      "Image xxx02118 done\n",
      "Image xxx02119 done\n",
      "Image xxx00157 done\n",
      "Image xxx00150 done\n",
      "Image xxx00106 done\n",
      "Image xxx00096 done\n",
      "Image xxx00125 done\n",
      "Image xxx00104 done\n",
      "Image xxx00141 done\n",
      "Image xxx00111 done\n",
      "Image xxx00119 done\n",
      "Image xxx00114 done\n",
      "Image xxx00144 done\n",
      "Image xxx00153 done\n",
      "Image xxx00152 done\n",
      "Image xxx00131 done\n",
      "Image xxx00124 done\n",
      "Image xxx00159 done\n",
      "Image xxx00132 done\n",
      "Image xxx00129 done\n",
      "Image xxx00156 done\n",
      "Image xxx00122 done\n",
      "Image xxx00121 done\n",
      "Image xxx00134 done\n",
      "Image xxx00138 done\n",
      "Image xxx00151 done\n",
      "Image xxx00107 done\n",
      "Image xxx00136 done\n",
      "Image xxx00108 done\n",
      "Image xxx00142 done\n",
      "Image xxx00105 done\n",
      "Image xxx00117 done\n",
      "Image xxx00123 done\n",
      "Image xxx00118 done\n",
      "Image xxx00098 done\n",
      "Image xxx00149 done\n",
      "Image xxx00116 done\n",
      "Image xxx00103 done\n",
      "Image xxx00160 done\n",
      "Image xxx00109 done\n",
      "Image xxx00135 done\n",
      "Image xxx00175 done\n",
      "Image xxx00189 done\n",
      "Image xxx00168 done\n",
      "Image xxx00222 done\n",
      "Image xxx00190 done\n",
      "Image xxx00215 done\n",
      "Image xxx00209 done\n",
      "Image xxx00226 done\n",
      "Image xxx00195 done\n",
      "Image xxx00214 done\n",
      "Image xxx00221 done\n",
      "Image xxx00210 done\n",
      "Image xxx00166 done\n",
      "Image xxx00227 done\n",
      "Image xxx00173 done\n",
      "Image xxx00183 done\n",
      "Image xxx00225 done\n",
      "Image xxx00202 done\n",
      "Image xxx00165 done\n",
      "Image xxx00164 done\n",
      "Image xxx00191 done\n",
      "Image xxx00218 done\n",
      "Image xxx00180 done\n",
      "Image xxx00172 done\n",
      "Image xxx00207 done\n",
      "Image xxx00216 done\n",
      "Image xxx00193 done\n",
      "Image xxx00184 done\n",
      "Image xxx00211 done\n",
      "Image xxx00181 done\n",
      "Image xxx00167 done\n",
      "Image xxx00179 done\n",
      "Image xxx00197 done\n",
      "Image xxx00163 done\n",
      "Image xxx00194 done\n",
      "Image xxx00177 done\n",
      "Image xxx00200 done\n",
      "Image xxx00205 done\n",
      "Image xxx00223 done\n",
      "Image xxx00206 done\n",
      "Image xxx00219 done\n",
      "Image xxx00220 done\n",
      "Image xxx00161 done\n",
      "Image xxx00169 done\n",
      "Image xxx00174 done\n",
      "Image xxx00201 done\n",
      "Image xxx00217 done\n",
      "Image xxx00204 done\n",
      "Image xxx00176 done\n",
      "Image xxx00224 done\n",
      "Image xxx00185 done\n",
      "Image xxx00162 done\n",
      "Image xxx00170 done\n",
      "Image xxx00171 done\n",
      "Image xxx00187 done\n",
      "Image xxx00182 done\n",
      "Image xxx00192 done\n",
      "Image xxx00188 done\n",
      "Image xxx00213 done\n",
      "Image xxx00229 done\n",
      "Image xxx00208 done\n",
      "Image xxx00198 done\n",
      "Image xxx00196 done\n",
      "Image xxx00203 done\n",
      "Image xxx00199 done\n",
      "Image xxx00178 done\n",
      "Image xxx00186 done\n",
      "Image xxx00212 done\n",
      "Image xxx00228 done\n",
      "Image xxx00254 done\n",
      "Image xxx00279 done\n",
      "Image xxx00290 done\n",
      "Image xxx00259 done\n",
      "Image xxx00277 done\n",
      "Image xxx00264 done\n",
      "Image xxx00251 done\n",
      "Image xxx00268 done\n",
      "Image xxx00289 done\n",
      "Image xxx00285 done\n",
      "Image xxx00255 done\n",
      "Image xxx00291 done\n",
      "Image xxx00234 done\n",
      "Image xxx00257 done\n",
      "Image xxx00256 done\n",
      "Image xxx00266 done\n",
      "Image xxx00260 done\n",
      "Image xxx00271 done\n",
      "Image xxx00238 done\n",
      "Image xxx00295 done\n",
      "Image xxx00258 done\n",
      "Image xxx00233 done\n",
      "Image xxx00230 done\n",
      "Image xxx00249 done\n",
      "Image xxx00263 done\n",
      "Image xxx00246 done\n",
      "Image xxx00292 done\n",
      "Image xxx00282 done\n",
      "Image xxx00248 done\n",
      "Image xxx00240 done\n",
      "Image xxx00253 done\n",
      "Image xxx00272 done\n",
      "Image xxx00232 done\n",
      "Image xxx00276 done\n",
      "Image xxx00270 done\n",
      "Image xxx00288 done\n",
      "Image xxx00245 done\n",
      "Image xxx00243 done\n",
      "Image xxx00273 done\n",
      "Image xxx00265 done\n",
      "Image xxx00278 done\n",
      "Image xxx00283 done\n",
      "Image xxx00280 done\n",
      "Image xxx00262 done\n",
      "Image xxx00236 done\n",
      "Image xxx00284 done\n",
      "Image xxx00261 done\n",
      "Image xxx00250 done\n",
      "Image xxx00275 done\n",
      "Image xxx00242 done\n",
      "Image xxx00231 done\n",
      "Image xxx00244 done\n",
      "Image xxx00294 done\n",
      "Image xxx00269 done\n",
      "Image xxx00287 done\n",
      "Image xxx00252 done\n",
      "Image xxx00286 done\n",
      "Image xxx00237 done\n",
      "Image xxx00241 done\n",
      "Image xxx00274 done\n",
      "Image xxx00235 done\n",
      "Image xxx00281 done\n",
      "Image xxx00247 done\n",
      "Image xxx00267 done\n",
      "Image xxx00239 done\n",
      "Image xxx00293 done\n",
      "Image xxx00337 done\n",
      "Image xxx00336 done\n",
      "Image xxx00344 done\n",
      "Image xxx00301 done\n",
      "Image xxx00315 done\n",
      "Image xxx00321 done\n",
      "Image xxx00334 done\n",
      "Image xxx00332 done\n",
      "Image xxx00317 done\n",
      "Image xxx00327 done\n",
      "Image xxx00326 done\n",
      "Image xxx00343 done\n",
      "Image xxx00303 done\n",
      "Image xxx00339 done\n",
      "Image xxx00314 done\n",
      "Image xxx00323 done\n",
      "Image xxx00324 done\n",
      "Image xxx00322 done\n",
      "Image xxx00306 done\n",
      "Image xxx00333 done\n",
      "Image xxx00341 done\n",
      "Image xxx00319 done\n",
      "Image xxx00309 done\n",
      "Image xxx00338 done\n",
      "Image xxx00330 done\n",
      "Image xxx00328 done\n",
      "Image xxx00311 done\n",
      "Image xxx00320 done\n",
      "Image xxx00329 done\n",
      "Image xxx00318 done\n",
      "Image xxx00331 done\n",
      "Image xxx00308 done\n",
      "Image xxx00305 done\n",
      "Image xxx00342 done\n",
      "Image xxx00345 done\n",
      "Image xxx00299 done\n",
      "Image xxx00316 done\n",
      "Image xxx00302 done\n",
      "Image xxx00300 done\n",
      "Image xxx00346 done\n",
      "Image xxx00298 done\n",
      "Image xxx00325 done\n",
      "Image xxx00313 done\n",
      "Image xxx00312 done\n",
      "Image xxx00310 done\n",
      "Image xxx00307 done\n",
      "Image xxx00296 done\n",
      "Image xxx00304 done\n",
      "Image xxx00297 done\n",
      "Image xxx00335 done\n",
      "Image xxx00340 done\n",
      "Image xxx00391 done\n",
      "Image xxx00388 done\n",
      "Image xxx00348 done\n",
      "Image xxx00382 done\n",
      "Image xxx00400 done\n",
      "Image xxx00364 done\n",
      "Image xxx00347 done\n",
      "Image xxx00376 done\n",
      "Image xxx00373 done\n",
      "Image xxx00371 done\n",
      "Image xxx00350 done\n",
      "Image xxx00354 done\n",
      "Image xxx00367 done\n",
      "Image xxx00372 done\n",
      "Image xxx00378 done\n",
      "Image xxx00387 done\n",
      "Image xxx00349 done\n",
      "Image xxx00363 done\n",
      "Image xxx00377 done\n",
      "Image xxx00384 done\n",
      "Image xxx00386 done\n",
      "Image xxx00369 done\n",
      "Image xxx00358 done\n",
      "Image xxx00368 done\n",
      "Image xxx00356 done\n",
      "Image xxx00359 done\n",
      "Image xxx00375 done\n",
      "Image xxx00361 done\n",
      "Image xxx00395 done\n",
      "Image xxx00366 done\n",
      "Image xxx00394 done\n",
      "Image xxx00381 done\n",
      "Image xxx00374 done\n",
      "Image xxx00353 done\n",
      "Image xxx00398 done\n",
      "Image xxx00385 done\n",
      "Image xxx00352 done\n",
      "Image xxx00383 done\n",
      "Image xxx00390 done\n",
      "Image xxx00397 done\n",
      "Image xxx00355 done\n",
      "Image xxx00393 done\n",
      "Image xxx00399 done\n",
      "Image xxx00392 done\n",
      "Image xxx00370 done\n",
      "Image xxx00365 done\n",
      "Image xxx00357 done\n",
      "Image xxx00401 done\n",
      "Image xxx00379 done\n",
      "Image xxx00360 done\n",
      "Image xxx00351 done\n",
      "Image xxx00389 done\n",
      "Image xxx00396 done\n",
      "Image xxx00380 done\n",
      "Image xxx00362 done\n",
      "Image xxx00451 done\n",
      "Image xxx00416 done\n",
      "Image xxx00435 done\n",
      "Image xxx00430 done\n",
      "Image xxx00455 done\n",
      "Image xxx00462 done\n",
      "Image xxx00461 done\n",
      "Image xxx00460 done\n",
      "Image xxx00403 done\n",
      "Image xxx00431 done\n",
      "Image xxx00448 done\n",
      "Image xxx00417 done\n",
      "Image xxx00428 done\n",
      "Image xxx00423 done\n",
      "Image xxx00415 done\n",
      "Image xxx00463 done\n",
      "Image xxx00433 done\n",
      "Image xxx00443 done\n",
      "Image xxx00424 done\n",
      "Image xxx00421 done\n",
      "Image xxx00437 done\n",
      "Image xxx00405 done\n",
      "Image xxx00425 done\n",
      "Image xxx00452 done\n",
      "Image xxx00441 done\n",
      "Image xxx00420 done\n",
      "Image xxx00459 done\n",
      "Image xxx00444 done\n",
      "Image xxx00414 done\n",
      "Image xxx00466 done\n",
      "Image xxx00467 done\n",
      "Image xxx00429 done\n",
      "Image xxx00410 done\n",
      "Image xxx00465 done\n",
      "Image xxx00453 done\n",
      "Image xxx00468 done\n",
      "Image xxx00418 done\n",
      "Image xxx00442 done\n",
      "Image xxx00456 done\n",
      "Image xxx00407 done\n",
      "Image xxx00440 done\n",
      "Image xxx00457 done\n",
      "Image xxx00402 done\n",
      "Image xxx00449 done\n",
      "Image xxx00454 done\n",
      "Image xxx00458 done\n",
      "Image xxx00413 done\n",
      "Image xxx00464 done\n",
      "Image xxx00411 done\n",
      "Image xxx00439 done\n",
      "Image xxx00427 done\n",
      "Image xxx00412 done\n",
      "Image xxx00409 done\n",
      "Image xxx00434 done\n",
      "Image xxx00432 done\n",
      "Image xxx00406 done\n",
      "Image xxx00422 done\n",
      "Image xxx00450 done\n",
      "Image xxx00446 done\n",
      "Image xxx00436 done\n",
      "Image xxx00419 done\n",
      "Image xxx00426 done\n",
      "Image xxx00447 done\n",
      "Image xxx00408 done\n",
      "Image xxx00404 done\n",
      "Image xxx00438 done\n",
      "Image xxx00445 done\n",
      "Image xxx00517 done\n",
      "Image xxx00511 done\n",
      "Image xxx00501 done\n",
      "Image xxx00525 done\n",
      "Image xxx00493 done\n",
      "Image xxx00492 done\n",
      "Image xxx00506 done\n",
      "Image xxx00487 done\n",
      "Image xxx00504 done\n",
      "Image xxx00519 done\n",
      "Image xxx00474 done\n",
      "Image xxx00473 done\n",
      "Image xxx00485 done\n",
      "Image xxx00498 done\n",
      "Image xxx00496 done\n",
      "Image xxx00472 done\n",
      "Image xxx00495 done\n",
      "Image xxx00483 done\n",
      "Image xxx00513 done\n",
      "Image xxx00529 done\n",
      "Image xxx00516 done\n",
      "Image xxx00477 done\n",
      "Image xxx00523 done\n",
      "Image xxx00488 done\n",
      "Image xxx00480 done\n",
      "Image xxx00524 done\n",
      "Image xxx00522 done\n",
      "Image xxx00486 done\n",
      "Image xxx00479 done\n",
      "Image xxx00475 done\n",
      "Image xxx00508 done\n",
      "Image xxx00526 done\n",
      "Image xxx00484 done\n",
      "Image xxx00476 done\n",
      "Image xxx00518 done\n",
      "Image xxx00530 done\n",
      "Image xxx00512 done\n",
      "Image xxx00469 done\n",
      "Image xxx00510 done\n",
      "Image xxx00527 done\n",
      "Image xxx00481 done\n",
      "Image xxx00482 done\n",
      "Image xxx00489 done\n",
      "Image xxx00500 done\n",
      "Image xxx00507 done\n",
      "Image xxx00520 done\n",
      "Image xxx00490 done\n",
      "Image xxx00503 done\n",
      "Image xxx00499 done\n",
      "Image xxx00478 done\n",
      "Image xxx00470 done\n",
      "Image xxx00494 done\n",
      "Image xxx00497 done\n",
      "Image xxx00502 done\n",
      "Image xxx00532 done\n",
      "Image xxx00514 done\n",
      "Image xxx00521 done\n",
      "Image xxx00531 done\n",
      "Image xxx00515 done\n",
      "Image xxx00509 done\n",
      "Image xxx00491 done\n",
      "Image xxx00505 done\n",
      "Image xxx00471 done\n",
      "Image xxx00533 done\n",
      "Image xxx00528 done\n",
      "Image xxx00584 done\n",
      "Image xxx00540 done\n",
      "Image xxx00589 done\n",
      "Image xxx00570 done\n",
      "Image xxx00571 done\n",
      "Image xxx00556 done\n",
      "Image xxx00552 done\n",
      "Image xxx00537 done\n",
      "Image xxx00534 done\n",
      "Image xxx00550 done\n",
      "Image xxx00579 done\n",
      "Image xxx00575 done\n",
      "Image xxx00583 done\n",
      "Image xxx00574 done\n",
      "Image xxx00555 done\n",
      "Image xxx00594 done\n",
      "Image xxx00577 done\n",
      "Image xxx00566 done\n",
      "Image xxx00562 done\n",
      "Image xxx00581 done\n",
      "Image xxx00590 done\n",
      "Image xxx00587 done\n",
      "Image xxx00553 done\n",
      "Image xxx00576 done\n",
      "Image xxx00549 done\n",
      "Image xxx00563 done\n",
      "Image xxx00535 done\n",
      "Image xxx00554 done\n",
      "Image xxx00561 done\n",
      "Image xxx00588 done\n",
      "Image xxx00568 done\n",
      "Image xxx00595 done\n",
      "Image xxx00559 done\n",
      "Image xxx00541 done\n",
      "Image xxx00573 done\n",
      "Image xxx00597 done\n",
      "Image xxx00591 done\n",
      "Image xxx00551 done\n",
      "Image xxx00593 done\n",
      "Image xxx00539 done\n",
      "Image xxx00544 done\n",
      "Image xxx00564 done\n",
      "Image xxx00585 done\n",
      "Image xxx00596 done\n",
      "Image xxx00569 done\n",
      "Image xxx00565 done\n",
      "Image xxx00543 done\n",
      "Image xxx00578 done\n",
      "Image xxx00542 done\n",
      "Image xxx00592 done\n",
      "Image xxx00586 done\n",
      "Image xxx00546 done\n",
      "Image xxx00536 done\n",
      "Image xxx00548 done\n",
      "Image xxx00560 done\n",
      "Image xxx00547 done\n",
      "Image xxx00582 done\n",
      "Image xxx00557 done\n",
      "Image xxx00538 done\n",
      "Image xxx00558 done\n",
      "Image xxx00580 done\n",
      "Image xxx00567 done\n",
      "Image xxx00545 done\n",
      "Image xxx00572 done\n",
      "Image xxx00622 done\n",
      "Image xxx00628 done\n",
      "Image xxx00626 done\n",
      "Image xxx00610 done\n",
      "Image xxx00631 done\n",
      "Image xxx00606 done\n",
      "Image xxx00640 done\n",
      "Image xxx00647 done\n",
      "Image xxx00600 done\n",
      "Image xxx00630 done\n",
      "Image xxx00650 done\n",
      "Image xxx00635 done\n",
      "Image xxx00641 done\n",
      "Image xxx00614 done\n",
      "Image xxx00612 done\n",
      "Image xxx00615 done\n",
      "Image xxx00642 done\n",
      "Image xxx00636 done\n",
      "Image xxx00598 done\n",
      "Image xxx00645 done\n",
      "Image xxx00651 done\n",
      "Image xxx00629 done\n",
      "Image xxx00609 done\n",
      "Image xxx00624 done\n",
      "Image xxx00643 done\n",
      "Image xxx00634 done\n",
      "Image xxx00617 done\n",
      "Image xxx00608 done\n",
      "Image xxx00625 done\n",
      "Image xxx00623 done\n",
      "Image xxx00632 done\n",
      "Image xxx00621 done\n",
      "Image xxx00637 done\n",
      "Image xxx00602 done\n",
      "Image xxx00639 done\n",
      "Image xxx00618 done\n",
      "Image xxx00620 done\n",
      "Image xxx00633 done\n",
      "Image xxx00648 done\n",
      "Image xxx00611 done\n",
      "Image xxx00649 done\n",
      "Image xxx00605 done\n",
      "Image xxx00638 done\n",
      "Image xxx00646 done\n",
      "Image xxx00603 done\n",
      "Image xxx00619 done\n",
      "Image xxx00599 done\n",
      "Image xxx00601 done\n",
      "Image xxx00613 done\n",
      "Image xxx00616 done\n",
      "Image xxx00607 done\n",
      "Image xxx00604 done\n",
      "Image xxx00644 done\n",
      "Image xxx00627 done\n",
      "Image xxx00658 done\n",
      "Image xxx00656 done\n",
      "Image xxx00655 done\n",
      "Image xxx00652 done\n",
      "Image xxx00653 done\n",
      "Image xxx00654 done\n",
      "Image xxx00657 done\n",
      "Image xxx00662 done\n",
      "Image xxx00663 done\n",
      "Image xxx00664 done\n",
      "Image xxx00659 done\n",
      "Image xxx00661 done\n",
      "Image xxx00660 done\n",
      "Image xxx00686 done\n",
      "Image xxx00682 done\n",
      "Image xxx00705 done\n",
      "Image xxx00683 done\n",
      "Image xxx00688 done\n",
      "Image xxx00709 done\n",
      "Image xxx00697 done\n",
      "Image xxx00714 done\n",
      "Image xxx00715 done\n",
      "Image xxx00701 done\n",
      "Image xxx00668 done\n",
      "Image xxx00672 done\n",
      "Image xxx00708 done\n",
      "Image xxx00684 done\n",
      "Image xxx00691 done\n",
      "Image xxx00680 done\n",
      "Image xxx00681 done\n",
      "Image xxx00712 done\n",
      "Image xxx00674 done\n",
      "Image xxx00710 done\n",
      "Image xxx00685 done\n",
      "Image xxx00696 done\n",
      "Image xxx00711 done\n",
      "Image xxx00695 done\n",
      "Image xxx00678 done\n",
      "Image xxx00698 done\n",
      "Image xxx00669 done\n",
      "Image xxx00676 done\n",
      "Image xxx00671 done\n",
      "Image xxx00665 done\n",
      "Image xxx00706 done\n",
      "Image xxx00675 done\n",
      "Image xxx00700 done\n",
      "Image xxx00670 done\n",
      "Image xxx00677 done\n",
      "Image xxx00673 done\n",
      "Image xxx00667 done\n",
      "Image xxx00687 done\n",
      "Image xxx00692 done\n",
      "Image xxx00693 done\n",
      "Image xxx00666 done\n",
      "Image xxx00707 done\n",
      "Image xxx00702 done\n",
      "Image xxx00694 done\n",
      "Image xxx00690 done\n",
      "Image xxx00679 done\n",
      "Image xxx00689 done\n",
      "Image xxx00703 done\n",
      "Image xxx00704 done\n",
      "Image xxx00699 done\n",
      "Image xxx00713 done\n",
      "Image xxx00733 done\n",
      "Image xxx00772 done\n",
      "Image xxx00737 done\n",
      "Image xxx00721 done\n",
      "Image xxx00780 done\n",
      "Image xxx00744 done\n",
      "Image xxx00753 done\n",
      "Image xxx00725 done\n",
      "Image xxx00761 done\n",
      "Image xxx00779 done\n",
      "Image xxx00727 done\n",
      "Image xxx00730 done\n",
      "Image xxx00739 done\n",
      "Image xxx00718 done\n",
      "Image xxx00758 done\n",
      "Image xxx00742 done\n",
      "Image xxx00781 done\n",
      "Image xxx00776 done\n",
      "Image xxx00783 done\n",
      "Image xxx00785 done\n",
      "Image xxx00722 done\n",
      "Image xxx00784 done\n",
      "Image xxx00771 done\n",
      "Image xxx00774 done\n",
      "Image xxx00743 done\n",
      "Image xxx00752 done\n",
      "Image xxx00768 done\n",
      "Image xxx00773 done\n",
      "Image xxx00724 done\n",
      "Image xxx00769 done\n",
      "Image xxx00735 done\n",
      "Image xxx00762 done\n",
      "Image xxx00766 done\n",
      "Image xxx00726 done\n",
      "Image xxx00728 done\n",
      "Image xxx00778 done\n",
      "Image xxx00777 done\n",
      "Image xxx00757 done\n",
      "Image xxx00731 done\n",
      "Image xxx00738 done\n",
      "Image xxx00782 done\n",
      "Image xxx00765 done\n",
      "Image xxx00723 done\n",
      "Image xxx00755 done\n",
      "Image xxx00759 done\n",
      "Image xxx00746 done\n",
      "Image xxx00740 done\n",
      "Image xxx00756 done\n",
      "Image xxx00767 done\n",
      "Image xxx00732 done\n",
      "Image xxx00729 done\n",
      "Image xxx00764 done\n",
      "Image xxx00749 done\n",
      "Image xxx00748 done\n",
      "Image xxx00747 done\n",
      "Image xxx00754 done\n",
      "Image xxx00750 done\n",
      "Image xxx00716 done\n",
      "Image xxx00720 done\n",
      "Image xxx00719 done\n",
      "Image xxx00770 done\n",
      "Image xxx00745 done\n",
      "Image xxx00775 done\n",
      "Image xxx00760 done\n",
      "Image xxx00736 done\n",
      "Image xxx00763 done\n",
      "Image xxx00717 done\n",
      "Image xxx00734 done\n",
      "Image xxx00741 done\n",
      "Image xxx00751 done\n",
      "Image xxx00816 done\n",
      "Image xxx00818 done\n",
      "Image xxx00826 done\n",
      "Image xxx00815 done\n",
      "Image xxx00792 done\n",
      "Image xxx00819 done\n",
      "Image xxx00806 done\n",
      "Image xxx00810 done\n",
      "Image xxx00813 done\n",
      "Image xxx00798 done\n",
      "Image xxx00820 done\n",
      "Image xxx00790 done\n",
      "Image xxx00799 done\n",
      "Image xxx00800 done\n",
      "Image xxx00796 done\n",
      "Image xxx00823 done\n",
      "Image xxx00791 done\n",
      "Image xxx00794 done\n",
      "Image xxx00817 done\n",
      "Image xxx00822 done\n",
      "Image xxx00812 done\n",
      "Image xxx00821 done\n",
      "Image xxx00789 done\n",
      "Image xxx00809 done\n",
      "Image xxx00795 done\n",
      "Image xxx00802 done\n",
      "Image xxx00811 done\n",
      "Image xxx00808 done\n",
      "Image xxx00801 done\n",
      "Image xxx00788 done\n",
      "Image xxx00827 done\n",
      "Image xxx00787 done\n",
      "Image xxx00805 done\n",
      "Image xxx00807 done\n",
      "Image xxx00824 done\n",
      "Image xxx00825 done\n",
      "Image xxx00814 done\n",
      "Image xxx00804 done\n",
      "Image xxx00793 done\n",
      "Image xxx00797 done\n",
      "Image xxx00803 done\n",
      "Image xxx00786 done\n",
      "Image xxx00859 done\n",
      "Image xxx00868 done\n",
      "Image xxx00880 done\n",
      "Image xxx00863 done\n",
      "Image xxx00840 done\n",
      "Image xxx00857 done\n",
      "Image xxx00853 done\n",
      "Image xxx00844 done\n",
      "Image xxx00885 done\n",
      "Image xxx00843 done\n",
      "Image xxx00834 done\n",
      "Image xxx00839 done\n",
      "Image xxx00842 done\n",
      "Image xxx00867 done\n",
      "Image xxx00832 done\n",
      "Image xxx00871 done\n",
      "Image xxx00862 done\n",
      "Image xxx00830 done\n",
      "Image xxx00865 done\n",
      "Image xxx00861 done\n",
      "Image xxx00877 done\n",
      "Image xxx00854 done\n",
      "Image xxx00883 done\n",
      "Image xxx00836 done\n",
      "Image xxx00875 done\n",
      "Image xxx00860 done\n",
      "Image xxx00881 done\n",
      "Image xxx00869 done\n",
      "Image xxx00866 done\n",
      "Image xxx00838 done\n",
      "Image xxx00847 done\n",
      "Image xxx00828 done\n",
      "Image xxx00841 done\n",
      "Image xxx00829 done\n",
      "Image xxx00852 done\n",
      "Image xxx00876 done\n",
      "Image xxx00874 done\n",
      "Image xxx00864 done\n",
      "Image xxx00858 done\n",
      "Image xxx00837 done\n",
      "Image xxx00831 done\n",
      "Image xxx00845 done\n",
      "Image xxx00870 done\n",
      "Image xxx00849 done\n",
      "Image xxx00846 done\n",
      "Image xxx00873 done\n",
      "Image xxx00856 done\n",
      "Image xxx00855 done\n",
      "Image xxx00882 done\n",
      "Image xxx00884 done\n",
      "Image xxx00833 done\n",
      "Image xxx00835 done\n",
      "Image xxx00872 done\n",
      "Image xxx00850 done\n",
      "Image xxx00848 done\n",
      "Image xxx00878 done\n",
      "Image xxx00851 done\n",
      "Image xxx00879 done\n",
      "Image xxx00894 done\n",
      "Image xxx00915 done\n",
      "Image xxx00941 done\n",
      "Image xxx00931 done\n",
      "Image xxx00954 done\n",
      "Image xxx00911 done\n",
      "Image xxx00914 done\n",
      "Image xxx00953 done\n",
      "Image xxx00903 done\n",
      "Image xxx00945 done\n",
      "Image xxx00935 done\n",
      "Image xxx00899 done\n",
      "Image xxx00918 done\n",
      "Image xxx00924 done\n",
      "Image xxx00891 done\n",
      "Image xxx00951 done\n",
      "Image xxx00893 done\n",
      "Image xxx00932 done\n",
      "Image xxx00910 done\n",
      "Image xxx00920 done\n",
      "Image xxx00922 done\n",
      "Image xxx00909 done\n",
      "Image xxx00907 done\n",
      "Image xxx00900 done\n",
      "Image xxx00949 done\n",
      "Image xxx00908 done\n",
      "Image xxx00948 done\n",
      "Image xxx00933 done\n",
      "Image xxx00929 done\n",
      "Image xxx00937 done\n",
      "Image xxx00912 done\n",
      "Image xxx00939 done\n",
      "Image xxx00928 done\n",
      "Image xxx00942 done\n",
      "Image xxx00898 done\n",
      "Image xxx00896 done\n",
      "Image xxx00917 done\n",
      "Image xxx00889 done\n",
      "Image xxx00897 done\n",
      "Image xxx00943 done\n",
      "Image xxx00923 done\n",
      "Image xxx00940 done\n",
      "Image xxx00927 done\n",
      "Image xxx00913 done\n",
      "Image xxx00926 done\n",
      "Image xxx00887 done\n",
      "Image xxx00904 done\n",
      "Image xxx00895 done\n",
      "Image xxx00925 done\n",
      "Image xxx00921 done\n",
      "Image xxx00952 done\n",
      "Image xxx00946 done\n",
      "Image xxx00905 done\n",
      "Image xxx00930 done\n",
      "Image xxx00944 done\n",
      "Image xxx00890 done\n",
      "Image xxx00919 done\n",
      "Image xxx00955 done\n",
      "Image xxx00902 done\n",
      "Image xxx00888 done\n",
      "Image xxx00901 done\n",
      "Image xxx00934 done\n",
      "Image xxx00892 done\n",
      "Image xxx00906 done\n",
      "Image xxx00886 done\n",
      "Image xxx00938 done\n",
      "Image xxx00947 done\n",
      "Image xxx00916 done\n",
      "Image xxx00936 done\n",
      "Image xxx00950 done\n",
      "Image xxx00964 done\n",
      "Image xxx00985 done\n",
      "Image xxx00989 done\n",
      "Image xxx00995 done\n",
      "Image xxx00990 done\n",
      "Image xxx01004 done\n",
      "Image xxx00987 done\n",
      "Image xxx00962 done\n",
      "Image xxx00984 done\n",
      "Image xxx00993 done\n",
      "Image xxx00972 done\n",
      "Image xxx01000 done\n",
      "Image xxx00979 done\n",
      "Image xxx00967 done\n",
      "Image xxx00998 done\n",
      "Image xxx00981 done\n",
      "Image xxx00971 done\n",
      "Image xxx01001 done\n",
      "Image xxx00974 done\n",
      "Image xxx00963 done\n",
      "Image xxx00988 done\n",
      "Image xxx01003 done\n",
      "Image xxx00970 done\n",
      "Image xxx00966 done\n",
      "Image xxx00992 done\n",
      "Image xxx00978 done\n",
      "Image xxx00996 done\n",
      "Image xxx00997 done\n",
      "Image xxx00965 done\n",
      "Image xxx01002 done\n",
      "Image xxx00960 done\n",
      "Image xxx00980 done\n",
      "Image xxx00959 done\n",
      "Image xxx00973 done\n",
      "Image xxx00976 done\n",
      "Image xxx00982 done\n",
      "Image xxx01006 done\n",
      "Image xxx00968 done\n",
      "Image xxx00999 done\n",
      "Image xxx00957 done\n",
      "Image xxx00958 done\n",
      "Image xxx00983 done\n",
      "Image xxx00961 done\n",
      "Image xxx00956 done\n",
      "Image xxx00994 done\n",
      "Image xxx00969 done\n",
      "Image xxx01005 done\n",
      "Image xxx00975 done\n",
      "Image xxx00977 done\n",
      "Image xxx00986 done\n",
      "Image xxx00991 done\n",
      "Image xxx01027 done\n",
      "Image xxx01043 done\n",
      "Image xxx01011 done\n",
      "Image xxx01020 done\n",
      "Image xxx01029 done\n",
      "Image xxx01054 done\n",
      "Image xxx01063 done\n",
      "Image xxx01036 done\n",
      "Image xxx01058 done\n",
      "Image xxx01041 done\n",
      "Image xxx01042 done\n",
      "Image xxx01053 done\n",
      "Image xxx01056 done\n",
      "Image xxx01028 done\n",
      "Image xxx01025 done\n",
      "Image xxx01044 done\n",
      "Image xxx01022 done\n",
      "Image xxx01023 done\n",
      "Image xxx01039 done\n",
      "Image xxx01038 done\n",
      "Image xxx01040 done\n",
      "Image xxx01055 done\n",
      "Image xxx01035 done\n",
      "Image xxx01066 done\n",
      "Image xxx01024 done\n",
      "Image xxx01031 done\n",
      "Image xxx01026 done\n",
      "Image xxx01068 done\n",
      "Image xxx01064 done\n",
      "Image xxx01062 done\n",
      "Image xxx01047 done\n",
      "Image xxx01074 done\n",
      "Image xxx01007 done\n",
      "Image xxx01051 done\n",
      "Image xxx01012 done\n",
      "Image xxx01065 done\n",
      "Image xxx01037 done\n",
      "Image xxx01033 done\n",
      "Image xxx01010 done\n",
      "Image xxx01017 done\n",
      "Image xxx01009 done\n",
      "Image xxx01049 done\n",
      "Image xxx01008 done\n",
      "Image xxx01021 done\n",
      "Image xxx01034 done\n",
      "Image xxx01013 done\n",
      "Image xxx01030 done\n",
      "Image xxx01073 done\n",
      "Image xxx01015 done\n",
      "Image xxx01061 done\n",
      "Image xxx01019 done\n",
      "Image xxx01060 done\n",
      "Image xxx01052 done\n",
      "Image xxx01050 done\n",
      "Image xxx01059 done\n",
      "Image xxx01069 done\n",
      "Image xxx01018 done\n",
      "Image xxx01032 done\n",
      "Image xxx01072 done\n",
      "Image xxx01045 done\n",
      "Image xxx01016 done\n",
      "Image xxx01067 done\n",
      "Image xxx01048 done\n",
      "Image xxx01075 done\n",
      "Image xxx01057 done\n",
      "Image xxx01071 done\n",
      "Image xxx01046 done\n",
      "Image xxx01070 done\n",
      "Image xxx01014 done\n",
      "Image xxx01132 done\n",
      "Image xxx01105 done\n",
      "Image xxx01076 done\n",
      "Image xxx01113 done\n",
      "Image xxx01078 done\n",
      "Image xxx01136 done\n",
      "Image xxx01093 done\n",
      "Image xxx01094 done\n",
      "Image xxx01118 done\n",
      "Image xxx01088 done\n",
      "Image xxx01080 done\n",
      "Image xxx01084 done\n",
      "Image xxx01097 done\n",
      "Image xxx01120 done\n",
      "Image xxx01099 done\n",
      "Image xxx01131 done\n",
      "Image xxx01090 done\n",
      "Image xxx01128 done\n",
      "Image xxx01086 done\n",
      "Image xxx01103 done\n",
      "Image xxx01081 done\n",
      "Image xxx01123 done\n",
      "Image xxx01106 done\n",
      "Image xxx01111 done\n",
      "Image xxx01135 done\n",
      "Image xxx01092 done\n",
      "Image xxx01085 done\n",
      "Image xxx01108 done\n",
      "Image xxx01079 done\n",
      "Image xxx01133 done\n",
      "Image xxx01100 done\n",
      "Image xxx01134 done\n",
      "Image xxx01119 done\n",
      "Image xxx01115 done\n",
      "Image xxx01117 done\n",
      "Image xxx01098 done\n",
      "Image xxx01127 done\n",
      "Image xxx01124 done\n",
      "Image xxx01112 done\n",
      "Image xxx01114 done\n",
      "Image xxx01129 done\n",
      "Image xxx01130 done\n",
      "Image xxx01104 done\n",
      "Image xxx01077 done\n",
      "Image xxx01083 done\n",
      "Image xxx01116 done\n",
      "Image xxx00024 done\n",
      "Image xxx00004 done\n",
      "Image xxx00001 done\n",
      "Image xxx00007 done\n",
      "Image xxx00017 done\n",
      "Image xxx00010 done\n",
      "Image xxx00015 done\n",
      "Image xxx00019 done\n",
      "Image xxx00009 done\n",
      "Image xxx00013 done\n",
      "Image xxx00003 done\n",
      "Image xxx00021 done\n",
      "Image xxx00020 done\n",
      "Image xxx00006 done\n",
      "Image xxx00005 done\n",
      "Image xxx00012 done\n",
      "Image xxx00023 done\n",
      "Image xxx00016 done\n",
      "Image xxx00014 done\n",
      "Image xxx00002 done\n",
      "Image xxx00025 done\n",
      "Image xxx00008 done\n",
      "Image xxx00022 done\n",
      "Image xxx00018 done\n",
      "Image xxx00011 done\n",
      "Image xxx00078 done\n",
      "Image xxx00068 done\n",
      "Image xxx00030 done\n",
      "Image xxx00031 done\n",
      "Image xxx00060 done\n",
      "Image xxx00055 done\n",
      "Image xxx00028 done\n",
      "Image xxx00027 done\n",
      "Image xxx00050 done\n",
      "Image xxx00083 done\n",
      "Image xxx00038 done\n",
      "Image xxx00067 done\n",
      "Image xxx00041 done\n",
      "Image xxx00063 done\n",
      "Image xxx00048 done\n",
      "Image xxx00035 done\n",
      "Image xxx00064 done\n",
      "Image xxx00059 done\n",
      "Image xxx00069 done\n",
      "Image xxx00070 done\n",
      "Image xxx00071 done\n",
      "Image xxx00047 done\n",
      "Image xxx00077 done\n",
      "Image xxx00039 done\n",
      "Image xxx00091 done\n",
      "Image xxx00037 done\n",
      "Image xxx00062 done\n",
      "Image xxx00094 done\n",
      "Image xxx00056 done\n",
      "Image xxx00082 done\n",
      "Image xxx00053 done\n",
      "Image xxx00093 done\n",
      "Image xxx00090 done\n",
      "Image xxx00088 done\n",
      "Image xxx00081 done\n",
      "Image xxx00076 done\n",
      "Image xxx00045 done\n",
      "Image xxx00066 done\n",
      "Image xxx00046 done\n",
      "Image xxx00054 done\n",
      "Image xxx00034 done\n",
      "Image xxx00033 done\n",
      "Image xxx00051 done\n",
      "Image xxx00058 done\n",
      "Image xxx00073 done\n",
      "Image xxx00029 done\n",
      "Image xxx00089 done\n",
      "Image xxx00049 done\n",
      "Image xxx00092 done\n",
      "Image xxx00026 done\n",
      "Image xxx00080 done\n",
      "Image xxx00085 done\n",
      "Image xxx00052 done\n",
      "Image xxx00075 done\n",
      "Image xxx00043 done\n",
      "Image xxx00072 done\n",
      "Image xxx00084 done\n",
      "Image xxx00074 done\n",
      "Image xxx00057 done\n",
      "Image xxx00042 done\n",
      "Image xxx00086 done\n",
      "Image xxx00032 done\n",
      "Image xxx00087 done\n",
      "Image xxx00065 done\n",
      "Image xxx00095 done\n",
      "Image xxx00036 done\n",
      "Image xxx00079 done\n",
      "Image xxx00061 done\n",
      "Image xxx00040 done\n",
      "Image xxx00044 done\n",
      "Image xxx00154 done\n",
      "Image xxx00120 done\n",
      "Image xxx00139 done\n",
      "Image xxx00155 done\n",
      "Image xxx00102 done\n",
      "Image xxx00146 done\n",
      "Image xxx00133 done\n",
      "Image xxx00128 done\n",
      "Image xxx00110 done\n",
      "Image xxx00097 done\n",
      "Image xxx00100 done\n",
      "Image xxx00140 done\n",
      "Image xxx00127 done\n",
      "Image xxx00113 done\n",
      "Image xxx00101 done\n",
      "Image xxx00145 done\n",
      "Image xxx00137 done\n",
      "Image xxx00158 done\n",
      "Image xxx00112 done\n",
      "Image xxx00148 done\n",
      "Image xxx00126 done\n",
      "Image xxx00147 done\n",
      "Image xxx00099 done\n",
      "Image xxx00130 done\n",
      "Image xxx00143 done\n",
      "Image xxx00115 done\n"
     ]
    }
   ],
   "source": [
    "test_df = pd.read_csv(test_csv_path)\n",
    "test_ids = []\n",
    "test_preds = []\n",
    "for i, row in test_df.iterrows():\n",
    "  img_id = '/' + row['Image_ID'] \n",
    "\n",
    "  img_path = test_img_folder + img_id + '.jpg' \n",
    "  image = Image.open(img_path)  \n",
    "  image = img_transforms(image).unsqueeze(0).to(DEVICE)\n",
    "\n",
    "  outputs_1 = swin_s_best_2(image)\n",
    "  outputs = outputs_1\n",
    "  _, preds = torch.max(outputs, 1)\n",
    "  test_preds = test_preds + preds.int().cpu().tolist()\n",
    "  test_ids.append(img_id)\n",
    "  print(f\"Image {row['Image_ID']} done\")"
   ]
  },
  {
   "cell_type": "markdown",
   "metadata": {},
   "source": [
    "#### Load the saved model"
   ]
  },
  {
   "cell_type": "code",
   "execution_count": null,
   "metadata": {
    "id": "0K_lwFYxKeV8"
   },
   "outputs": [],
   "source": [
    "test_dict = {'img_id': test_ids, 'prediction': test_preds}\n",
    "test_inf_df = pd.DataFrame(test_dict)\n",
    "test_inf_df.to_csv('/content/drive/MyDrive/CAD/test_results_swin_s_v2.csv')"
   ]
  }
 ],
 "metadata": {
  "accelerator": "GPU",
  "colab": {
   "gpuType": "V100",
   "provenance": []
  },
  "kernelspec": {
   "display_name": "Python 3 (ipykernel)",
   "language": "python",
   "name": "python3"
  },
  "language_info": {
   "codemirror_mode": {
    "name": "ipython",
    "version": 3
   },
   "file_extension": ".py",
   "mimetype": "text/x-python",
   "name": "python",
   "nbconvert_exporter": "python",
   "pygments_lexer": "ipython3",
   "version": "3.10.8"
  }
 },
 "nbformat": 4,
 "nbformat_minor": 4
}
